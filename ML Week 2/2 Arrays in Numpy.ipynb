{
 "cells": [
  {
   "cell_type": "code",
   "execution_count": 1,
   "metadata": {},
   "outputs": [],
   "source": [
    "# !pip insert numpy\n",
    "import numpy as np\n"
   ]
  },
  {
   "cell_type": "code",
   "execution_count": 2,
   "metadata": {},
   "outputs": [
    {
     "data": {
      "text/plain": [
       "array(['1', '2', '3', '4', '5.0'], dtype='<U32')"
      ]
     },
     "execution_count": 2,
     "metadata": {},
     "output_type": "execute_result"
    }
   ],
   "source": [
    "# storing multiple data types in a array\n",
    "l_1 = [1,2,3,\"4\",5.0]\n",
    "arr_1 = np.array(l_1)\n",
    "arr_1"
   ]
  },
  {
   "cell_type": "code",
   "execution_count": 3,
   "metadata": {},
   "outputs": [
    {
     "data": {
      "text/plain": [
       "numpy.ndarray"
      ]
     },
     "execution_count": 3,
     "metadata": {},
     "output_type": "execute_result"
    }
   ],
   "source": [
    "type(arr_1)"
   ]
  },
  {
   "cell_type": "code",
   "execution_count": 4,
   "metadata": {},
   "outputs": [
    {
     "data": {
      "text/plain": [
       "dtype('<U32')"
      ]
     },
     "execution_count": 4,
     "metadata": {},
     "output_type": "execute_result"
    }
   ],
   "source": [
    "# Data type of array\n",
    "arr_1.dtype"
   ]
  },
  {
   "cell_type": "code",
   "execution_count": 5,
   "metadata": {},
   "outputs": [
    {
     "data": {
      "text/plain": [
       "5"
      ]
     },
     "execution_count": 5,
     "metadata": {},
     "output_type": "execute_result"
    }
   ],
   "source": [
    "            # Array size\n",
    "arr_1.size"
   ]
  },
  {
   "cell_type": "code",
   "execution_count": 6,
   "metadata": {},
   "outputs": [
    {
     "data": {
      "text/plain": [
       "(5,)"
      ]
     },
     "execution_count": 6,
     "metadata": {},
     "output_type": "execute_result"
    }
   ],
   "source": [
    "            # Array shape\n",
    "arr_1.shape"
   ]
  },
  {
   "cell_type": "code",
   "execution_count": 17,
   "metadata": {},
   "outputs": [
    {
     "name": "stdout",
     "output_type": "stream",
     "text": [
      "(2, 4)\n"
     ]
    },
    {
     "data": {
      "text/plain": [
       "array([[1, 2, 3, 4],\n",
       "       [5, 6, 7, 8]])"
      ]
     },
     "execution_count": 17,
     "metadata": {},
     "output_type": "execute_result"
    }
   ],
   "source": [
    "arr_2=np.array([[1,2,3,4],[5,6,7,8]])\n",
    "print(arr_2.shape)\n",
    "arr_2"
   ]
  },
  {
   "cell_type": "code",
   "execution_count": 38,
   "metadata": {},
   "outputs": [
    {
     "name": "stdout",
     "output_type": "stream",
     "text": [
      "(3, 2, 3, 5)\n",
      "[[[[ 1  2  3  4  5]\n",
      "   [ 6  7  8  9 10]\n",
      "   [ 6  7  8  9 10]]\n",
      "\n",
      "  [[ 1  2  3  4  5]\n",
      "   [ 6  7  8  9 10]\n",
      "   [ 6  7  8  9 10]]]\n",
      "\n",
      "\n",
      " [[[ 1  2  3  4  5]\n",
      "   [ 6  7  8  9 10]\n",
      "   [ 6  7  8  9 10]]\n",
      "\n",
      "  [[ 1  2  3  4  5]\n",
      "   [ 6  7  8  9 10]\n",
      "   [ 6  7  8  9 10]]]\n",
      "\n",
      "\n",
      " [[[ 1  2  3  4  5]\n",
      "   [ 6  7  8  9 10]\n",
      "   [ 6  7  8  9 10]]\n",
      "\n",
      "  [[ 1  2  3  4  5]\n",
      "   [ 6  7  8  9 10]\n",
      "   [ 6  7  8  9 10]]]]\n",
      "4\n",
      "90\n"
     ]
    }
   ],
   "source": [
    "arr3=np.array(\n",
    "   [\n",
    "       [\n",
    "            [\n",
    "                [1,2,3,4,5],\n",
    "                [6,7,8,9,10],\n",
    "                [6,7,8,9,10]\n",
    "            ],\n",
    "            [\n",
    "                [1,2,3,4,5],\n",
    "                [6,7,8,9,10],\n",
    "                [6,7,8,9,10]\n",
    "            ]\n",
    "       ],\n",
    "       \n",
    "       [\n",
    "            [\n",
    "                [1,2,3,4,5],\n",
    "                [6,7,8,9,10],\n",
    "                [6,7,8,9,10]\n",
    "            ],\n",
    "            [\n",
    "                [1,2,3,4,5],\n",
    "                [6,7,8,9,10],\n",
    "                [6,7,8,9,10]\n",
    "            ]\n",
    "       ],\n",
    "        [\n",
    "            [\n",
    "                [1,2,3,4,5],\n",
    "                [6,7,8,9,10],\n",
    "                [6,7,8,9,10]\n",
    "            ],\n",
    "            [\n",
    "                [1,2,3,4,5],\n",
    "                [6,7,8,9,10],\n",
    "                [6,7,8,9,10]\n",
    "            ]\n",
    "       ]\n",
    "   ]\n",
    ")\n",
    "\n",
    "print(arr3.shape)\n",
    "print(arr3)\n",
    "print(arr3.ndim)\n",
    "print(arr3.size)"
   ]
  },
  {
   "cell_type": "code",
   "execution_count": 7,
   "metadata": {},
   "outputs": [
    {
     "data": {
      "text/plain": [
       "(5,)"
      ]
     },
     "execution_count": 7,
     "metadata": {},
     "output_type": "execute_result"
    }
   ],
   "source": [
    "            # Also array shape\n",
    "np.shape(arr_1)"
   ]
  },
  {
   "cell_type": "code",
   "execution_count": 8,
   "metadata": {},
   "outputs": [
    {
     "data": {
      "text/plain": [
       "1"
      ]
     },
     "execution_count": 8,
     "metadata": {},
     "output_type": "execute_result"
    }
   ],
   "source": [
    "            # Shows the dimentions of an array\n",
    "arr_1.ndim"
   ]
  },
  {
   "cell_type": "code",
   "execution_count": 37,
   "metadata": {},
   "outputs": [
    {
     "data": {
      "text/plain": [
       "array([0, 0, 0])"
      ]
     },
     "execution_count": 37,
     "metadata": {},
     "output_type": "execute_result"
    }
   ],
   "source": [
    "            # Fills the entire array with the number '3'\n",
    "arr123=np.array([1,2,3])\n",
    "arr123.fill(0)\n",
    "arr123"
   ]
  }
 ],
 "metadata": {
  "kernelspec": {
   "display_name": "Python 3 (ipykernel)",
   "language": "python",
   "name": "python3"
  },
  "language_info": {
   "codemirror_mode": {
    "name": "ipython",
    "version": 3
   },
   "file_extension": ".py",
   "mimetype": "text/x-python",
   "name": "python",
   "nbconvert_exporter": "python",
   "pygments_lexer": "ipython3",
   "version": "3.9.13"
  }
 },
 "nbformat": 4,
 "nbformat_minor": 2
}
