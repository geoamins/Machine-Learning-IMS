{
 "cells": [
  {
   "cell_type": "markdown",
   "metadata": {},
   "source": [
    "### NumPy Assignment\n",
    "\n",
    "This assignment covers a wide range of NumPy functionalities, from basic array creation to advanced operations like linear algebra. It is suitable for undergraduate students who are new to NumPy or need practice with its core features.\n",
    "\n",
    "\n",
    "Instructions\n",
    "- Complete all the tasks in this Jupyter Notebook.\n",
    "- Write your code in the provided code cells.\n",
    "- Test your code to ensure it works as expected.\n",
    "- Submit your completed notebook.\n",
    "\n",
    "#### Submission\n",
    "- Save your Jupyter Notebook.\n",
    "- Submit the notebook file with your solutions."
   ]
  },
  {
   "cell_type": "markdown",
   "metadata": {},
   "source": [
    "Enter your name: \n",
    "Program: \n",
    "Group:"
   ]
  },
  {
   "cell_type": "markdown",
   "metadata": {},
   "source": [
    "Task 1: Import NumPy <br />\n",
    "Import the NumPy library and use the alias np."
   ]
  },
  {
   "cell_type": "code",
   "execution_count": null,
   "metadata": {},
   "outputs": [],
   "source": []
  },
  {
   "cell_type": "markdown",
   "metadata": {},
   "source": [
    "Task 2: Create Arrays\n",
    "- Create a 1D array with the numbers 1 through 10.\n",
    "- Create a 2D array of shape (3, 3) with all elements set to 1.\n",
    "- Create a 3D array of shape (2, 2, 2) with random integers between 0 and 100."
   ]
  },
  {
   "cell_type": "code",
   "execution_count": null,
   "metadata": {},
   "outputs": [],
   "source": []
  },
  {
   "cell_type": "markdown",
   "metadata": {},
   "source": [
    "Task 3: Array Operations\n",
    "- Given the array arr = np.array([1, 2, 3, 4, 5]), multiply each element by 10.\n",
    "- Compute the sum of all elements in the array.\n",
    "- Compute the mean and standard deviation of the array."
   ]
  },
  {
   "cell_type": "code",
   "execution_count": null,
   "metadata": {},
   "outputs": [],
   "source": []
  },
  {
   "cell_type": "markdown",
   "metadata": {},
   "source": [
    "Task 4: Array Indexing and Slicing\n",
    "- Given the array arr = np.array([[1, 2, 3], [4, 5, 6], [7, 8, 9]]), extract the second row.\n",
    "- Extract the first two columns.\n",
    "- Extract the subarray [[2, 3], [5, 6]]."
   ]
  },
  {
   "cell_type": "code",
   "execution_count": null,
   "metadata": {},
   "outputs": [],
   "source": []
  },
  {
   "cell_type": "markdown",
   "metadata": {},
   "source": [
    "Task 5: Reshape and Transpose\n",
    "- Reshape the array arr = np.arange(1, 13) into a 3x4 matrix.\n",
    "- Transpose the resulting matrix."
   ]
  },
  {
   "cell_type": "code",
   "execution_count": null,
   "metadata": {},
   "outputs": [],
   "source": []
  },
  {
   "cell_type": "markdown",
   "metadata": {},
   "source": [
    "Task 6: Mathematical Functions\n",
    "- Compute the element-wise square root of the array arr = np.array([1, 4, 9, 16, 25]).\n",
    "- Compute the exponential of each element in the array arr = np.array([1, 2, 3]).\n",
    "- Compute the dot product of a = np.array([1, 2, 3]) and b = np.array([4, 5, 6])."
   ]
  },
  {
   "cell_type": "code",
   "execution_count": null,
   "metadata": {},
   "outputs": [],
   "source": []
  },
  {
   "cell_type": "markdown",
   "metadata": {},
   "source": [
    "Task 7: Advanced Operations\n",
    "- Create a 5x5 identity matrix.\n",
    "- Stack two arrays a = np.array([1, 2, 3]) and b = np.array([4, 5, 6]) vertically.\n",
    "- Split the array arr = np.arange(1, 11) into 3 equal parts."
   ]
  },
  {
   "cell_type": "code",
   "execution_count": null,
   "metadata": {},
   "outputs": [],
   "source": []
  },
  {
   "cell_type": "markdown",
   "metadata": {},
   "source": [
    "Task 8: Boolean Indexing\n",
    "- Given the array arr = np.array([1, 2, 3, 4, 5, 6, 7, 8, 9, 10]), extract all elements greater than 5.\n",
    "- Replace all elements less than 5 with 0."
   ]
  },
  {
   "cell_type": "code",
   "execution_count": null,
   "metadata": {},
   "outputs": [],
   "source": []
  },
  {
   "cell_type": "markdown",
   "metadata": {},
   "source": [
    "Task 9: Linear Algebra\n",
    "- Compute the determinant of the matrix A = np.array([[1, 2], [3, 4]]).\n",
    "- Compute the inverse of matrix A.\n",
    "- Solve the system of linear equations: \n",
    "  - 2x+3y=8\n",
    "  - x−y=1"
   ]
  },
  {
   "cell_type": "code",
   "execution_count": null,
   "metadata": {},
   "outputs": [],
   "source": []
  },
  {
   "cell_type": "markdown",
   "metadata": {},
   "source": [
    "Task 10: Challenge Problem\n",
    "- Create a 10x10 array where the border elements are 1 and the inner elements are 0.\n",
    "- Normalize the array arr = np.random.randint(0, 100, size=(5, 5)) so that all values lie between 0 and 1."
   ]
  },
  {
   "cell_type": "code",
   "execution_count": null,
   "metadata": {},
   "outputs": [],
   "source": []
  },
  {
   "cell_type": "markdown",
   "metadata": {},
   "source": [
    "Task 11: Make a function and perform the following in it.\n",
    "\n",
    "   **1: Print the given data in a DataFrame**\n",
    "    \n",
    "   **2: Print the first 3 rows** \n",
    "   \n",
    "   **3: Print the last 3 rows**\n",
    "   \n",
    "   data = { <br />\n",
    "    'A': [1, 2, 3, 4, 5, 6], <br />\n",
    "    'B': [7, 8, 9, 10, 11, 12],<br />\n",
    "    'C': [13, 14, 15, 16, 17, 18] <br />\n",
    "}"
   ]
  },
  {
   "cell_type": "code",
   "execution_count": null,
   "metadata": {},
   "outputs": [],
   "source": []
  },
  {
   "cell_type": "markdown",
   "metadata": {},
   "source": [
    "Task 12: Make a function and perform the following functions.**\n",
    "\n",
    "   **1: Perform the mathematical function +50 to the given numpy array**\n",
    "    \n",
    "   **2: Add an element at the index position [3],[6],[8] in the array**\n",
    "    \n",
    "   **3: Check the shape of the array**\n",
    "   \n",
    "   array = np.array([1, 2, 3, 4, 5, 6, 7, 8, 9, 10])"
   ]
  },
  {
   "cell_type": "code",
   "execution_count": null,
   "metadata": {},
   "outputs": [],
   "source": []
  }
 ],
 "metadata": {
  "kernelspec": {
   "display_name": "base",
   "language": "python",
   "name": "python3"
  },
  "language_info": {
   "codemirror_mode": {
    "name": "ipython",
    "version": 3
   },
   "file_extension": ".py",
   "mimetype": "text/x-python",
   "name": "python",
   "nbconvert_exporter": "python",
   "pygments_lexer": "ipython3",
   "version": "3.9.13"
  }
 },
 "nbformat": 4,
 "nbformat_minor": 2
}
