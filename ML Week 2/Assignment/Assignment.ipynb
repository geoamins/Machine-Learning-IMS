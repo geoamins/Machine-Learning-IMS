{
 "cells": [
  {
   "cell_type": "markdown",
   "id": "77bb2da9",
   "metadata": {},
   "source": [
    "**Task 1)Make a function and perform the following in it.**\n",
    "\n",
    "   **1: Print the given data in a DataFrame**\n",
    "    \n",
    "   **2: Print the first 3 rows** \n",
    "   \n",
    "   **3: Print the last 3 rows**\n",
    "   \n",
    "   **data = {\n",
    "    'A': [1, 2, 3, 4, 5, 6],\n",
    "    'B': [7, 8, 9, 10, 11, 12],\n",
    "    'C': [13, 14, 15, 16, 17, 18]\n",
    "}**\n",
    "   \n",
    "   **  **\n",
    "   **  **\n",
    "    \n",
    "**Task 2)Make a function and perform the following functions.**\n",
    "\n",
    "   **1: Perform the mathematical function +50 to the given numpy array**\n",
    "    \n",
    "   **2: Add an element at the index position [3],[6],[8] in the array**\n",
    "    \n",
    "   **3: Check the shape of the array**\n",
    "   \n",
    "   **array = np.array([1, 2, 3, 4, 5, 6, 7, 8, 9, 10])**"
   ]
  }
 ],
 "metadata": {
  "kernelspec": {
   "display_name": "Python 3 (ipykernel)",
   "language": "python",
   "name": "python3"
  },
  "language_info": {
   "codemirror_mode": {
    "name": "ipython",
    "version": 3
   },
   "file_extension": ".py",
   "mimetype": "text/x-python",
   "name": "python",
   "nbconvert_exporter": "python",
   "pygments_lexer": "ipython3",
   "version": "3.10.9"
  }
 },
 "nbformat": 4,
 "nbformat_minor": 5
}
