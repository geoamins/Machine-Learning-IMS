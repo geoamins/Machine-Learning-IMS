{
 "cells": [
  {
   "cell_type": "markdown",
   "id": "12318879",
   "metadata": {},
   "source": [
    "**Task 1)Make a function and perform the following in it.**\n",
    "\n",
    "   **1: Print the given data in a DataFrame**\n",
    "    \n",
    "   **2: Print the first 3 rows** \n",
    "   \n",
    "   **3: Print the last 3 rows**\n",
    "   \n",
    "   **data = {\n",
    "    'A': [1, 2, 3, 4, 5, 6],\n",
    "    'B': [7, 8, 9, 10, 11, 12],\n",
    "    'C': [13, 14, 15, 16, 17, 18]\n",
    "}**\n",
    "   \n",
    "   **  **\n",
    "   **  **\n",
    "    \n",
    "**Task 2)Make a function and perform the following functions.**\n",
    "\n",
    "   **1: Perform the mathematical function +50 to the given numpy array**\n",
    "    \n",
    "   **2: Add an element at the index position [3],[6],[8] in the array**\n",
    "    \n",
    "   **3: Check the shape of the array**\n",
    "   \n",
    "   **array = np.array([1, 2, 3, 4, 5, 6, 7, 8, 9, 10])**"
   ]
  },
  {
   "cell_type": "code",
   "execution_count": 2,
   "id": "1918affc",
   "metadata": {},
   "outputs": [],
   "source": [
    "import pandas as pd\n",
    "import numpy as np"
   ]
  },
  {
   "cell_type": "code",
   "execution_count": 7,
   "id": "187d2c4e",
   "metadata": {},
   "outputs": [],
   "source": [
    "def process_dataframe(data):\n",
    "    # Convert the data to a DataFrame\n",
    "    df = pd.DataFrame(data)\n",
    "    \n",
    "    # Print the entire DataFrame\n",
    "    print(\"Entire DataFrame:\\n\", df, \"\\n\")\n",
    "    \n",
    "    # Print the first 3 rows\n",
    "    print(\"First 3 rows:\\n\", df.head(3), \"\\n\")\n",
    "    \n",
    "    # Print the last 3 rows\n",
    "    print(\"Last 3 rows:\\n\", df.tail(3), \"\\n\")\n",
    "    \n",
    "data = {\n",
    "    'A': [1, 2, 3, 4, 5, 6],\n",
    "    'B': [7, 8, 9, 10, 11, 12],\n",
    "    'C': [13, 14, 15, 16, 17, 18]\n",
    "}"
   ]
  },
  {
   "cell_type": "code",
   "execution_count": 8,
   "id": "a59f649c",
   "metadata": {},
   "outputs": [
    {
     "name": "stdout",
     "output_type": "stream",
     "text": [
      "Entire DataFrame:\n",
      "    A   B   C\n",
      "0  1   7  13\n",
      "1  2   8  14\n",
      "2  3   9  15\n",
      "3  4  10  16\n",
      "4  5  11  17\n",
      "5  6  12  18 \n",
      "\n",
      "First 3 rows:\n",
      "    A  B   C\n",
      "0  1  7  13\n",
      "1  2  8  14\n",
      "2  3  9  15 \n",
      "\n",
      "Last 3 rows:\n",
      "    A   B   C\n",
      "3  4  10  16\n",
      "4  5  11  17\n",
      "5  6  12  18 \n",
      "\n"
     ]
    }
   ],
   "source": [
    "process_dataframe(data)"
   ]
  },
  {
   "cell_type": "code",
   "execution_count": 1,
   "id": "1e272e4e",
   "metadata": {},
   "outputs": [],
   "source": [
    "import numpy as np\n",
    "\n",
    "def process_array(array):\n",
    "    # Step 1: Add 50 to each element in the array\n",
    "    array_plus_50 = array + 50\n",
    "    print(\"Array after adding 50:\\n\", array_plus_50, \"\\n\")\n",
    "    \n",
    "    # Step 2: Insert elements at specific positions\n",
    "    array = np.insert(array, 3, 100)\n",
    "    array = np.insert(array, 6, 200)\n",
    "    array = np.insert(array, 8, 300)\n",
    "    print(\"Array after inserting new elements at specific positions:\\n\", array, \"\\n\")\n",
    "    \n",
    "    # Step 3: Check and print the shape of the array\n",
    "    print(\"Shape of the array:\", array.shape, \"\\n\")\n",
    "\n",
    "# Initial array\n",
    "array = np.array([1, 2, 3, 4, 5, 6, 7, 8, 9, 10])"
   ]
  },
  {
   "cell_type": "code",
   "execution_count": 2,
   "id": "dcac62ec",
   "metadata": {},
   "outputs": [
    {
     "name": "stdout",
     "output_type": "stream",
     "text": [
      "Array after adding 50:\n",
      " [51 52 53 54 55 56 57 58 59 60] \n",
      "\n",
      "Array after inserting new elements at specific positions:\n",
      " [  1   2   3 100   4   5 200   6 300   7   8   9  10] \n",
      "\n",
      "Shape of the array: (13,) \n",
      "\n"
     ]
    }
   ],
   "source": [
    "process_array(array)"
   ]
  },
  {
   "cell_type": "code",
   "execution_count": null,
   "id": "1d6405bc",
   "metadata": {},
   "outputs": [],
   "source": []
  }
 ],
 "metadata": {
  "kernelspec": {
   "display_name": "Python 3 (ipykernel)",
   "language": "python",
   "name": "python3"
  },
  "language_info": {
   "codemirror_mode": {
    "name": "ipython",
    "version": 3
   },
   "file_extension": ".py",
   "mimetype": "text/x-python",
   "name": "python",
   "nbconvert_exporter": "python",
   "pygments_lexer": "ipython3",
   "version": "3.10.9"
  }
 },
 "nbformat": 4,
 "nbformat_minor": 5
}
