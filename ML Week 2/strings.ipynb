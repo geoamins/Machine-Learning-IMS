{
 "cells": [
  {
   "cell_type": "markdown",
   "metadata": {},
   "source": [
    "### Strings\n",
    "In python, a string is an object with following attributes such as (i) the characters in the string, and (ii) the length of the string\n"
   ]
  },
  {
   "cell_type": "markdown",
   "metadata": {},
   "source": [
    "<html>\n",
    "<body>\n",
    "    <table border=\"1\">\n",
    "        <tr>\n",
    "            <td>String Functions</td>\n",
    "            <td>Return</td>\n",
    "        </tr>\n",
    "        <tr>\n",
    "            <td>s.lower()</td>\n",
    "            <td>a copy of s with all lowercase characters</td>\n",
    "        </tr>\n",
    "        <tr>\n",
    "            <td>s.upper()</td>\n",
    "            <td>a copy of s with all uppercase characters</td>\n",
    "        </tr>\n",
    "        <tr>\n",
    "            <td>s.find(sub)</td>\n",
    "            <td>the index of the first occurrence of the substring sub in the string s (-1 if not found)</td>\n",
    "        </tr>\n",
    "        <tr>\n",
    "            <td>s.count(sub)</td>\n",
    "            <td>the number of occurrences of the substring sub in the string s (0 if not found)</td>\n",
    "        </tr>\n",
    "        <tr>\n",
    "            <td>s.replace(target_string, new_string)</td>\n",
    "            <td>a new string in which all occurrences of the target_string in s to be replaced by new_string</td>\n",
    "        </tr>\n",
    "        <tr>\n",
    "            <td>s.split()</td>\n",
    "            <td>Splitting a string/breaks a string into a list of substrings</td>\n",
    "        </tr>\n",
    "\n",
    "    </table>\n",
    "</body>\n",
    "</html>"
   ]
  },
  {
   "cell_type": "code",
   "execution_count": 3,
   "metadata": {},
   "outputs": [
    {
     "data": {
      "text/plain": [
       "'HEllo how arE you'"
      ]
     },
     "execution_count": 3,
     "metadata": {},
     "output_type": "execute_result"
    }
   ],
   "source": [
    "str= \"Hello how are you\"\n",
    "str.upper()\n",
    "str.lower()\n",
    "str.replace('e','E')"
   ]
  },
  {
   "cell_type": "code",
   "execution_count": 4,
   "metadata": {},
   "outputs": [
    {
     "data": {
      "text/plain": [
       "['Hello', 'how', 'are', 'you']"
      ]
     },
     "execution_count": 4,
     "metadata": {},
     "output_type": "execute_result"
    }
   ],
   "source": [
    "str=\"Hello how are you\"\n",
    "str.split()"
   ]
  },
  {
   "cell_type": "code",
   "execution_count": 5,
   "metadata": {},
   "outputs": [
    {
     "data": {
      "text/plain": [
       "'Hello'"
      ]
     },
     "execution_count": 5,
     "metadata": {},
     "output_type": "execute_result"
    }
   ],
   "source": [
    "ind = str.split()\n",
    "ind[0]"
   ]
  },
  {
   "cell_type": "code",
   "execution_count": 8,
   "metadata": {},
   "outputs": [
    {
     "name": "stdout",
     "output_type": "stream",
     "text": [
      "['l', 'ngu', 'ge']\n"
     ]
    }
   ],
   "source": [
    "str = ' language '\n",
    "str=str.strip()\n",
    "str.upper()\n",
    "str=str.split('a')\n",
    "print(str)"
   ]
  },
  {
   "cell_type": "code",
   "execution_count": null,
   "metadata": {},
   "outputs": [],
   "source": []
  }
 ],
 "metadata": {
  "kernelspec": {
   "display_name": "base",
   "language": "python",
   "name": "python3"
  },
  "language_info": {
   "codemirror_mode": {
    "name": "ipython",
    "version": 3
   },
   "file_extension": ".py",
   "mimetype": "text/x-python",
   "name": "python",
   "nbconvert_exporter": "python",
   "pygments_lexer": "ipython3",
   "version": "3.9.13"
  }
 },
 "nbformat": 4,
 "nbformat_minor": 2
}
