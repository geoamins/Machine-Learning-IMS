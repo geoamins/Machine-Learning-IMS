{
 "cells": [
  {
   "cell_type": "markdown",
   "metadata": {},
   "source": [
    "### Introduction to machine learning using linear regression"
   ]
  },
  {
   "cell_type": "markdown",
   "metadata": {},
   "source": [
    "**Definition:** Linear regression is a type of supervised learning problem where we have gathered observations and want to find the parameters to a model that fits a line to those observations as good as possible. Its has two flavors:\n",
    "1. A single parameter referred to as simple linear regression or univariate linear regression models, and \n",
    "2. Multiple input features called multi linear regression or multivariate linear regression models. "
   ]
  },
  {
   "cell_type": "markdown",
   "metadata": {},
   "source": [
    "For example, For example, if the price of a single water bottle is 2 dollars then two bottles would set us back 4 dollars, and three bottles would be 6 dollars. Expressed as an equation this would look like\n",
    "$c=2b+c$. where \n",
    "* c being the total cost, and \n",
    "* b being the number of water bottles."
   ]
  },
  {
   "cell_type": "markdown",
   "metadata": {},
   "source": [
    "Imagine if your local supermarket charged you 5 dollar simply to enter regardless if we don't buy any water or not. In this case, we can update our equation by adding a constant term: \n",
    "$c=2b+5$. This added constant term is usually referred to as the bias. "
   ]
  },
  {
   "cell_type": "markdown",
   "metadata": {},
   "source": [
    "<img src=\"imgs/1.png\" width=\"400\" height=\"400\">"
   ]
  },
  {
   "cell_type": "markdown",
   "metadata": {},
   "source": [
    "In a final scenario, imagine that instead of buying water bottles from the same vendor (your local supermarket) with a price that fluctuates around two dollars, we drive around City and buy water bottles from many different vendors who have different pricing models and different sizes of water bottles (normalized to a standard unit, i.e. 0.5 liters).\n",
    "<img src=\"2.png\" width=\"400\" height=\"400\">"
   ]
  },
  {
   "cell_type": "markdown",
   "metadata": {},
   "source": [
    "Given all the receipts for the water bottles we bought, how do find the relationship between water bottles and price (the solid blue line)? This is the core concept of \"fitting a model\" where we find the best value for the parameters β and b.\n",
    "* **Machine learning is about finding this best fit for the parameters.**\n",
    "<img src=\"imgs/3.png\" width=\"400px\" height=\"400px\">"
   ]
  },
  {
   "cell_type": "markdown",
   "metadata": {},
   "source": [
    "**What is a good \"fit\"? And why?**\n",
    "<img src=\"4.png\" width=\"800px\" height=\"300px\">"
   ]
  },
  {
   "cell_type": "markdown",
   "metadata": {},
   "source": [
    "We can intuitively guess that the third fit is the best. But why?\n",
    "* The best fit can be found when the distance (green lines) between the predicted (orange dots) and observed points (blue dots) are minimized.\n",
    "* These distances  (green lines) are historically referred to as **residuals** in order to distinguish this idea from a competing concept already referred to as the error. \n",
    "* **Residuals**: In linear regression only, the residuals are the distance between our observed values and the predictions. or simply we can say that \"the residuals are called the error in this function.\" However, the other ML applicaitons will call it the error.\n",
    "\n",
    "<img src=\"imgs/5.png\" width=\"600px\" height=\"400px\">"
   ]
  },
  {
   "cell_type": "markdown",
   "metadata": {},
   "source": [
    "### Loss Function\n",
    "Our goal is to minimize this error to obtain the most accurate value of β and b.\n",
    "We will use the Mean Squared Error function to calculate the loss. There are three steps in this function:\n",
    "\n",
    "* Find the difference between the actual y and predicted y value(y = xβ + b), for a given x.\n",
    "* Square this difference.\n",
    "* Find the mean of the squares for every value in X."
   ]
  },
  {
   "cell_type": "markdown",
   "metadata": {},
   "source": [
    "**Mean squared error**\n",
    "Note that the residuals are called the error in this function\n",
    "<img src=\"6.png\" width=\"400px\" height=\"100px\">\n",
    "we can describe the mean square error loss function for our univariate linear regression model of interest by substituting the prediction $y^-$ placeholder with the actual model predictions $xβ+b$ :\n",
    "<img src=\"7.png\" width=\"350px\" height=\"100px\">"
   ]
  },
  {
   "cell_type": "markdown",
   "metadata": {},
   "source": [
    "**another very common regression loss function is the mean absolute error.**\n",
    "<img src=\"8.png\" width=\"400px\" height=\"100px\">"
   ]
  }
 ],
 "metadata": {
  "language_info": {
   "name": "python"
  }
 },
 "nbformat": 4,
 "nbformat_minor": 2
}
