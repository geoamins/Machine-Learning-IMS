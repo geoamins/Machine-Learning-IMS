{
 "cells": [
  {
   "cell_type": "markdown",
   "metadata": {},
   "source": [
    "Sentence: \"Natural language processing is fun.\"\n",
    "\n",
    "* Unigrams: [\"Natural\", \"language\", processing\", \"is\", \"fun\"]\n",
    "* Bigrams: [\"Natural language\", \"language processing\", \"processing is\", \"is fun\"]\n",
    "* Trigrams: [\"Natural language processing\", \"language processing is\", \"processing is fun\"]"
   ]
  },
  {
   "cell_type": "code",
   "execution_count": 1,
   "metadata": {},
   "outputs": [
    {
     "name": "stdout",
     "output_type": "stream",
     "text": [
      "Unigrams: [('I',), ('love',), ('NLP',)]\n",
      "Bigrams: [('I', 'love'), ('love', 'NLP')]\n",
      "Trigrams: [('I', 'love', 'NLP')]\n"
     ]
    }
   ],
   "source": [
    "import nltk\n",
    "from nltk.util import ngrams\n",
    "from nltk.tokenize import word_tokenize\n",
    "\n",
    "sentence = \"I love NLP\"\n",
    "tokens = word_tokenize(sentence)\n",
    "\n",
    "# Generate unigrams, bigrams, and trigrams\n",
    "unigrams = list(ngrams(tokens, 1))\n",
    "bigrams = list(ngrams(tokens, 2))\n",
    "trigrams = list(ngrams(tokens, 3))\n",
    "\n",
    "print(\"Unigrams:\", unigrams)\n",
    "print(\"Bigrams:\", bigrams)\n",
    "print(\"Trigrams:\", trigrams)\n"
   ]
  }
 ],
 "metadata": {
  "kernelspec": {
   "display_name": "base",
   "language": "python",
   "name": "python3"
  },
  "language_info": {
   "codemirror_mode": {
    "name": "ipython",
    "version": 3
   },
   "file_extension": ".py",
   "mimetype": "text/x-python",
   "name": "python",
   "nbconvert_exporter": "python",
   "pygments_lexer": "ipython3",
   "version": "3.9.13"
  }
 },
 "nbformat": 4,
 "nbformat_minor": 2
}
