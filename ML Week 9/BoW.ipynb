{
 "cells": [
  {
   "cell_type": "code",
   "execution_count": 1,
   "metadata": {},
   "outputs": [
    {
     "name": "stdout",
     "output_type": "stream",
     "text": [
      "Original Sentence: Natural Language Processing is amazing\n",
      "Words: ['Natural', 'Language', 'Processing', 'is', 'amazing']\n",
      "Prefixes (Beginnings of Words): ['Nat', 'Lan', 'Pro', 'is', 'ama']\n"
     ]
    }
   ],
   "source": [
    "# Sample sentence\n",
    "sentence = \"Natural Language Processing is amazing\"\n",
    "\n",
    "# Split the sentence into words\n",
    "words = sentence.split()\n",
    "\n",
    "# Extract the first three letters of each word (prefix)\n",
    "prefixes = [word[:3] for word in words]\n",
    "\n",
    "# Display the results\n",
    "print(\"Original Sentence:\", sentence)\n",
    "print(\"Words:\", words)\n",
    "print(\"Prefixes (Beginnings of Words):\", prefixes)\n"
   ]
  }
 ],
 "metadata": {
  "kernelspec": {
   "display_name": "base",
   "language": "python",
   "name": "python3"
  },
  "language_info": {
   "codemirror_mode": {
    "name": "ipython",
    "version": 3
   },
   "file_extension": ".py",
   "mimetype": "text/x-python",
   "name": "python",
   "nbconvert_exporter": "python",
   "pygments_lexer": "ipython3",
   "version": "3.9.13"
  }
 },
 "nbformat": 4,
 "nbformat_minor": 2
}
