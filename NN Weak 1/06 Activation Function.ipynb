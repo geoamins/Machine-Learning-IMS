{
 "cells": [
  {
   "cell_type": "markdown",
   "metadata": {},
   "source": [
    "This code demonstrates each activation function on some sample inputs, allowing you to show how different activations affect the input values.\n",
    "\n"
   ]
  },
  {
   "cell_type": "code",
   "execution_count": 4,
   "metadata": {},
   "outputs": [
    {
     "name": "stdout",
     "output_type": "stream",
     "text": [
      "Linear:\n",
      " [[ 3.  5. -1.]\n",
      " [-1. -3.  1.]]\n",
      "Sigmoid:\n",
      " [[0.73105858 0.88079708 0.26894142]\n",
      " [0.26894142 0.11920292 0.5       ]]\n",
      "Tanh:\n",
      " [[ 0.76159416  0.96402758 -0.76159416]\n",
      " [-0.76159416 -0.96402758  0.        ]]\n",
      "ReLU:\n",
      " [[1 2 0]\n",
      " [0 0 0]]\n",
      "Leaky ReLU:\n",
      " [[ 1.    2.   -0.01]\n",
      " [-0.01 -0.02  0.  ]]\n",
      "Softmax:\n",
      " [[0.25949646 0.70538451 0.03511903]\n",
      " [0.24472847 0.09003057 0.66524096]]\n"
     ]
    }
   ],
   "source": [
    "import numpy as np\n",
    "\n",
    "class ActivationFunctions:\n",
    "    @staticmethod\n",
    "    def linear_activation(x, scale=1.0, bias=0.0):\n",
    "        # x (float or np.array): Input value or array of values.\n",
    "        # scale (float): Scaling factor for the input. Defaults to 1.0.\n",
    "        # bias (float): Bias term added to the input. Defaults to 0.0.\n",
    "        return scale * x + bias\n",
    "    \n",
    "    @staticmethod\n",
    "    def sigmoid(x):\n",
    "        return 1 / (1 + np.exp(-x))\n",
    "    \n",
    "    @staticmethod\n",
    "    def tanh(x):\n",
    "        return np.tanh(x)\n",
    "    \n",
    "    @staticmethod\n",
    "    def relu(x):\n",
    "        return np.maximum(0, x)\n",
    "    \n",
    "    @staticmethod\n",
    "    def leaky_relu(x, alpha=0.01):\n",
    "        return np.where(x > 0, x, x * alpha)\n",
    "    \n",
    "    @staticmethod\n",
    "    def softmax(x):\n",
    "        exp_values = np.exp(x - np.max(x, axis=1, keepdims=True))  # Stability trick\n",
    "        return exp_values / np.sum(exp_values, axis=1, keepdims=True)\n",
    "\n",
    "# Example usage:\n",
    "inputs = np.array([[1, 2, -1], [-1, -2, 0]])\n",
    "activation = ActivationFunctions()\n",
    "\n",
    "print(\"Linear:\\n\", activation.linear_activation(inputs, scale=2.0, bias=1.0))\n",
    "print(\"Sigmoid:\\n\", activation.sigmoid(inputs))\n",
    "print(\"Tanh:\\n\", activation.tanh(inputs))\n",
    "print(\"ReLU:\\n\", activation.relu(inputs))\n",
    "print(\"Leaky ReLU:\\n\", activation.leaky_relu(inputs))\n",
    "print(\"Softmax:\\n\", activation.softmax(inputs))\n"
   ]
  },
  {
   "cell_type": "code",
   "execution_count": 8,
   "metadata": {},
   "outputs": [],
   "source": [
    "import numpy as np\n",
    "import nnfs\n",
    "from nnfs.datasets import spiral_data\n",
    "\n",
    "nnfs.init()\n",
    "\n",
    "class Layer_Dense:\n",
    "    # Layer initialization\n",
    "    def __init__(self, n_inputs, n_neurons):\n",
    "        #initialize weights and biases\n",
    "        self.weights = 0.01 * np.random.randn(n_inputs, n_neurons)\n",
    "        self.biases = np.zeros((1, n_neurons))\n",
    "    \n",
    "    # Forward pass\n",
    "    def forward(self, inputs):\n",
    "        # Calculate output values from inputs, weights and biases\n",
    "        # output_i = (input_i x weight_i) + (input_i x weights_i) + bias_i\n",
    "        self.output = np.dot(inputs, self.weights) + self.biases\n",
    "    "
   ]
  },
  {
   "cell_type": "code",
   "execution_count": 9,
   "metadata": {},
   "outputs": [],
   "source": [
    "# ReLU activation\n",
    "class Activation_ReLU:\n",
    "    # Forward pass\n",
    "    def forward(self, inputs):\n",
    "        # Calculate output values from input\n",
    "        self.output = np.maximum(0, inputs)"
   ]
  },
  {
   "cell_type": "code",
   "execution_count": 14,
   "metadata": {},
   "outputs": [
    {
     "name": "stdout",
     "output_type": "stream",
     "text": [
      "Before ReLU activation output: \n",
      " [[ 0.0000000e+00  0.0000000e+00  0.0000000e+00]\n",
      " [ 1.2344425e-04 -4.2612613e-05  8.7741073e-06]\n",
      " [ 2.5981691e-04 -1.5019374e-04  2.1353657e-05]\n",
      " [ 4.0532288e-04 -3.3390927e-04  3.8064085e-05]\n",
      " [ 5.5259373e-04 -6.4534455e-04  6.0963972e-05]]\n",
      "After ReLU activation output: \n",
      " [[0.0000000e+00 0.0000000e+00 0.0000000e+00]\n",
      " [1.2344425e-04 0.0000000e+00 8.7741073e-06]\n",
      " [2.5981691e-04 0.0000000e+00 2.1353657e-05]\n",
      " [4.0532288e-04 0.0000000e+00 3.8064085e-05]\n",
      " [5.5259373e-04 0.0000000e+00 6.0963972e-05]]\n"
     ]
    }
   ],
   "source": [
    " # Create dataset\n",
    " X, y = spiral_data(samples=100, classes=3)\n",
    " # Create Dense layer with 2 input features and 3 output values\n",
    " dense1 = Layer_Dense(2, 3)\n",
    " # Create ReLU activation (to be used with Dense layer):\n",
    " activation1 = Activation_ReLU()\n",
    " # Make a forward pass of our training data through this layer\n",
    " dense1.forward(X)\n",
    " print(\"Before ReLU activation output: \\n\", dense1.output[:5])\n",
    " # Forward pass through activation func.\n",
    " # Takes in output from previous layer\n",
    " activation1.forward(dense1.output)\n",
    " # Let's see output of the first few samples:\n",
    " print(\"After ReLU activation output: \\n\", activation1.output[:5])"
   ]
  },
  {
   "cell_type": "markdown",
   "metadata": {},
   "source": [
    "As you can see, negative values have been clipped (modified to be zero). That’s all there is to the \n",
    "rectified linear activation function used in the hidden layer."
   ]
  },
  {
   "cell_type": "markdown",
   "metadata": {},
   "source": [
    "#### The Softmax Activation Function\n"
   ]
  },
  {
   "cell_type": "code",
   "execution_count": 2,
   "metadata": {},
   "outputs": [
    {
     "name": "stdout",
     "output_type": "stream",
     "text": [
      "Exponentiated values:\n",
      "[121.51041751893969, 3.3534846525504487, 10.85906266492961]\n"
     ]
    }
   ],
   "source": [
    "# Value from the previous output of NN is\n",
    "layer_outputs = [4.8, 1.21, 2.385]\n",
    "\n",
    "# E mathematical constant\n",
    "E= 2.71828182846\n",
    "\n",
    "# For each value in a vector, compute the exponential value \n",
    "exp_values = [ ] \n",
    "for output in layer_outputs:\n",
    "    exp_values.append(E**output)   # ** is rest to the power\n",
    "print('Exponentiated values:')\n",
    "print(exp_values)"
   ]
  },
  {
   "cell_type": "code",
   "execution_count": 13,
   "metadata": {},
   "outputs": [
    {
     "name": "stdout",
     "output_type": "stream",
     "text": [
      "121.51041751893969 +\n",
      "3.3534846525504487 +\n",
      "10.85906266492961 +\n",
      "------------------\n",
      "135.72296483641975\n",
      "\n",
      "Normalized exponentiated values:\n",
      "[0.8952826639573506, 0.024708306782070668, 0.08000902926057876]\n",
      "Sum of normalized values: 1.0\n"
     ]
    }
   ],
   "source": [
    "# Now normalize values \n",
    "for i in exp_values:\n",
    "    print(i,'+')\n",
    "print('------------------')\n",
    "norm_base = sum(exp_values) # sum all the values\n",
    "print(norm_base)\n",
    "\n",
    "norm_values = []\n",
    "for value in exp_values:\n",
    "    norm_values.append(value / norm_base) \n",
    "print('\\nNormalized exponentiated values:')\n",
    "print(norm_values)\n",
    "\n",
    "print('Sum of normalized values:', sum(norm_values))"
   ]
  },
  {
   "cell_type": "markdown",
   "metadata": {},
   "source": [
    "the results are similar, but faster to calculate and the code is easier to read with NumPy np.exp(), then np.sum() is faster"
   ]
  },
  {
   "cell_type": "code",
   "execution_count": 15,
   "metadata": {},
   "outputs": [
    {
     "name": "stdout",
     "output_type": "stream",
     "text": [
      "exponentiated values:\n",
      "[121.51041752   3.35348465  10.85906266]\n",
      "normalized exponentiated values:\n",
      "[0.89528266 0.02470831 0.08000903]\n",
      "sum of normalized values: 0.9999999999999999\n"
     ]
    }
   ],
   "source": [
    "import numpy as np\n",
    "# Values from the earlier previous when we described\n",
    "# what a neural network is\n",
    "layer_outputs = [4.8, 1.21, 2.385]\n",
    "# For each value in a vector, calculate the exponential value\n",
    "exp_values = np.exp(layer_outputs)\n",
    "print('exponentiated values:')\n",
    "print(exp_values)\n",
    "# Now normalize values\n",
    "norm_values = exp_values / np.sum(exp_values)\n",
    "print('normalized exponentiated values:')\n",
    "print(norm_values)\n",
    "print('sum of normalized values:', np.sum(norm_values))"
   ]
  }
 ],
 "metadata": {
  "kernelspec": {
   "display_name": "base",
   "language": "python",
   "name": "python3"
  },
  "language_info": {
   "codemirror_mode": {
    "name": "ipython",
    "version": 3
   },
   "file_extension": ".py",
   "mimetype": "text/x-python",
   "name": "python",
   "nbconvert_exporter": "python",
   "pygments_lexer": "ipython3",
   "version": "3.9.13"
  }
 },
 "nbformat": 4,
 "nbformat_minor": 2
}
