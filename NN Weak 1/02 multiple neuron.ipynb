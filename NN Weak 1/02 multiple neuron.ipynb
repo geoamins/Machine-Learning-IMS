{
 "cells": [
  {
   "cell_type": "markdown",
   "metadata": {},
   "source": [
    "## Multiple Neurons"
   ]
  },
  {
   "cell_type": "code",
   "execution_count": 2,
   "metadata": {},
   "outputs": [
    {
     "name": "stdout",
     "output_type": "stream",
     "text": [
      "[4.8, 1.21, 2.335]\n"
     ]
    }
   ],
   "source": [
    "# input vector\n",
    "inputs = [ 1, 2, 3, 2.5]  \n",
    "\n",
    "# weights vector for 1st neuron\n",
    "weights1 = [0.2,0.8,-0.5,1] \n",
    "# weights vector for 2nd neuron\n",
    "weights2 = [0.5, -0.91, 0.26, -0.5] \n",
    "# weights vector for 3rd neuron\n",
    "weights3 = [-0.26, -0.27, 0.17, 0.85] \n",
    "\n",
    "bias1 = 2   #for 1st neuron+weights\n",
    "bias2 = 3   #for 2nd neuron+weights\n",
    "bias3 = 0.5 #for 3rd neuron+weights\n",
    "\n",
    "output = [\n",
    "            # neuron 1:  sum of products of inputs and weights1\n",
    "            inputs[0]* weights1[0] + \n",
    "            inputs[1]* weights1[1] +  \n",
    "            inputs[2]* weights1[2] + \n",
    "            inputs[3]* weights1[3] + bias1,\n",
    "            \n",
    "            # neuron 2:  sum of products of inputs and weights2\n",
    "            inputs[0]* weights2[0] + \n",
    "            inputs[1]* weights2[1] +  \n",
    "            inputs[2]* weights2[2] + \n",
    "            inputs[3]* weights2[3] + bias2,\n",
    "            \n",
    "            # neuron 3:  sum of products of inputs and weights3\n",
    "            inputs[0]* weights3[0] + \n",
    "            inputs[1]* weights3[1] +  \n",
    "            inputs[2]* weights3[2] + \n",
    "            inputs[3]* weights3[3] + bias3\n",
    "        ]\n",
    "print(output)"
   ]
  },
  {
   "cell_type": "code",
   "execution_count": 9,
   "metadata": {},
   "outputs": [
    {
     "name": "stdout",
     "output_type": "stream",
     "text": [
      "[4.8, 1.21, 2.385]\n"
     ]
    }
   ],
   "source": [
    "# The code to use loops instead of hardcoded operations for above same program\n",
    "inputs = [1, 2, 3, 2.5]\n",
    "weights = [[0.2, 0.8, -0.5, 1],\n",
    "           [0.5, -0.91, 0.26, -0.5],\n",
    "           [-0.26, -0.27, 0.17, 0.87]]\n",
    "biases = [2, 3, 0.5]\n",
    " # Output of current layer\n",
    "layer_outputs = []\n",
    " # For each neuron\n",
    "for neuron_weights, neuron_bias in zip(weights, biases):\n",
    " # Zeroed output of given neuron\n",
    "    neuron_output = 0\n",
    " # For each input and weight to the neuron\n",
    "    for n_input, weight in zip(inputs, neuron_weights):\n",
    "    # Multiply this input by associated weight\n",
    "        # and add to the neuron's output variable\n",
    "        neuron_output += n_input*weight\n",
    "    # Add bias\n",
    "    neuron_output += neuron_bias\n",
    "    # Put neuron's result to the layer's output list\n",
    "    layer_outputs.append(neuron_output)\n",
    "print(layer_outputs)"
   ]
  },
  {
   "cell_type": "code",
   "execution_count": 23,
   "metadata": {},
   "outputs": [
    {
     "name": "stdout",
     "output_type": "stream",
     "text": [
      "1/1 [==============================] - 0s 49ms/step\n",
      "Output without activation function:\n",
      " [[4.8       1.2099999 2.385    ]]\n"
     ]
    }
   ],
   "source": [
    "import numpy as np\n",
    "from tensorflow.keras.models import Sequential\n",
    "from tensorflow.keras.layers import Dense\n",
    "\n",
    "# Define inputs as a 2D array (one sample with four features)\n",
    "inputs = np.array([[1, 2, 3, 2.5]])\n",
    "\n",
    "# Define the model\n",
    "model = Sequential([\n",
    "    Dense(3, input_shape=(4,), activation=None)  # 3 neurons, 4 inputs, no activation function\n",
    "])\n",
    "\n",
    "# Define the weights and biases in the correct format\n",
    "weights_matrix = np.array([\n",
    "    [0.2, 0.5, -0.26],      # Weights for feature 1\n",
    "    [0.8, -0.91, -0.27],    # Weights for feature 2\n",
    "    [-0.5, 0.26, 0.17],     # Weights for feature 3\n",
    "    [1, -0.5, 0.87]         # Weights for feature 4\n",
    "])\n",
    "\n",
    "bias_vector = np.array([2, 3, 0.5])  # Biases for the 3 neurons\n",
    "\n",
    "# Set the weights and biases for the layer\n",
    "model.layers[0].set_weights([weights_matrix, bias_vector])\n",
    "\n",
    "# Get the output\n",
    "output = model.predict(inputs)\n",
    "print(\"Output without activation function:\\n\", output)\n"
   ]
  }
 ],
 "metadata": {
  "kernelspec": {
   "display_name": "base",
   "language": "python",
   "name": "python3"
  },
  "language_info": {
   "codemirror_mode": {
    "name": "ipython",
    "version": 3
   },
   "file_extension": ".py",
   "mimetype": "text/x-python",
   "name": "python",
   "nbconvert_exporter": "python",
   "pygments_lexer": "ipython3",
   "version": "3.9.13"
  }
 },
 "nbformat": 4,
 "nbformat_minor": 2
}
