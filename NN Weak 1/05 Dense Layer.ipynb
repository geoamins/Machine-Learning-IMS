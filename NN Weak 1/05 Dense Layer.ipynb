{
 "cells": [
  {
   "cell_type": "markdown",
   "metadata": {},
   "source": [
    "**Example: Using Two Dense Layers with Specified Weights and Biases.**"
   ]
  },
  {
   "cell_type": "code",
   "execution_count": 1,
   "metadata": {},
   "outputs": [],
   "source": [
    "import numpy as np\n",
    "from tensorflow.keras.models import Sequential\n",
    "from tensorflow.keras.layers import Dense"
   ]
  },
  {
   "cell_type": "code",
   "execution_count": 2,
   "metadata": {},
   "outputs": [],
   "source": [
    "# Define inputs as a numpy array (3 samples with 4 features)\n",
    "inputs = np.array([\n",
    "    [1, 2, 3, 2.5],\n",
    "    [2., 5., -1., 2],\n",
    "    [-1.5, 2.7, 3.3, -0.8]\n",
    "])\n"
   ]
  },
  {
   "cell_type": "code",
   "execution_count": 3,
   "metadata": {},
   "outputs": [],
   "source": [
    "# Step 1: Define the model\n",
    "# Sequential( )  is a fundamental part of building neural networks using keras.\n",
    "# keras \n",
    "model = Sequential()\n",
    "\n",
    "# Step 2: Layer 1 - 3 neurons, 4 input features, no activation function\n",
    "model.add(Dense(3, input_shape=(4,), activation=None))  \n",
    "\n",
    "# Step 3: Layer 2 - 3 neurons, no activation function\n",
    "model.add(Dense(3, activation=None))"
   ]
  },
  {
   "cell_type": "code",
   "execution_count": 4,
   "metadata": {},
   "outputs": [],
   "source": [
    "# Step 4: Set weights and biases for Layer 1\n",
    "weights1 = np.array([\n",
    "    [0.2, 0.8, -0.5, 1],\n",
    "    [0.5, -0.91, 0.26, -0.5],\n",
    "    [-0.26, -0.27, 0.17, 0.87]\n",
    "]).T  # Transposed to fit Keras' weight shape\n",
    "biases1 = np.array([2, 3, 0.5])\n",
    "model.layers[0].set_weights([weights1, biases1])\n",
    "\n",
    "# Step 5: Set weights and biases for Layer 2\n",
    "weights2 = np.array([\n",
    "    [0.1, -0.14, 0.5],\n",
    "    [-0.5, 0.12, -0.33],\n",
    "    [-0.44, 0.73, -0.13]\n",
    "]).T  # Transposed to fit Keras' weight shape\n",
    "biases2 = np.array([-1, 2, -0.5])\n",
    "model.layers[1].set_weights([weights2, biases2])"
   ]
  },
  {
   "cell_type": "code",
   "execution_count": 5,
   "metadata": {},
   "outputs": [
    {
     "name": "stdout",
     "output_type": "stream",
     "text": [
      "1/1 [==============================] - 0s 402ms/step\n",
      "Layer 2 Outputs: [[ 0.50310004 -1.0418501  -2.0387502 ]\n",
      " [ 0.2434001  -2.7332     -5.7633004 ]\n",
      " [-0.99314004  1.41254    -0.35654998]]\n"
     ]
    }
   ],
   "source": [
    "\n",
    "# Step 6: Get the output of the network\n",
    "layer_outputs = model.predict(inputs)\n",
    "print(\"Layer 2 Outputs:\", layer_outputs)"
   ]
  },
  {
   "cell_type": "markdown",
   "metadata": {},
   "source": [
    "**Explanation of the Example**\n",
    "\n",
    "1. Model Definition:\n",
    "   1. A sequential model is defined, and two dense layers are added.\n",
    "   2. The first dense layer has 3 neurons and accepts 4 input features, with no activation function specified.\n",
    "   3. The second dense layer also has 3 neurons and no activation function.\n",
    "1. Setting Weights and Biases:\n",
    "   1. The weights and biases for each layer are set using the set_weights() method.\n",
    "   2. The weights are transposed to match the expected shape for Keras, which expects (input_dim, output_dim) for the weights matrix.\n",
    "   3. The biases are provided as a vector with a length equal to the number of neurons in the layer.\n",
    "\n",
    "1. Model Prediction:\n",
    "   1. The model.predict(inputs) method runs a forward pass through the network and outputs the results from the second layer."
   ]
  },
  {
   "cell_type": "markdown",
   "metadata": {},
   "source": [
    "**With Dense Layer using own dense layer class**"
   ]
  },
  {
   "cell_type": "code",
   "execution_count": 6,
   "metadata": {},
   "outputs": [],
   "source": [
    "import numpy as np\n",
    "import nnfs\n",
    "from nnfs.datasets import spiral_data\n",
    "\n",
    "nnfs.init()\n",
    "\n",
    "class Layer_Dense:\n",
    "    # Layer initialization\n",
    "    def __init__(self, n_inputs, n_neurons):\n",
    "        #initialize weights and biases\n",
    "        self.weights = 0.01 * np.random.randn(n_inputs, n_neurons)\n",
    "        self.biases = np.zeros((1, n_neurons))\n",
    "    \n",
    "    # Forward pass\n",
    "    def forward(self, inputs):\n",
    "        # Calculate output values from inputs, weights and biases\n",
    "        # output_i = (input_i x weight_i) + (input_i x weights_i) + bias_i\n",
    "        self.output = np.dot(inputs, self.weights) + self.biases\n"
   ]
  },
  {
   "cell_type": "code",
   "execution_count": 34,
   "metadata": {},
   "outputs": [
    {
     "name": "stdout",
     "output_type": "stream",
     "text": [
      "[[-0.          0.        ]\n",
      " [-0.00368809  0.11104988]\n",
      " [ 0.15842274 -0.1558363 ]\n",
      " [ 0.24290931 -0.22826777]\n",
      " [-0.38173482 -0.22761677]\n",
      " [-0.42299822  0.36015895]\n",
      " [ 0.01907566  0.6663937 ]\n",
      " [ 0.5456464  -0.55426365]\n",
      " [ 0.03438422 -0.8882236 ]\n",
      " [-0.94407916 -0.32971892]\n",
      " [-0.         -0.        ]\n",
      " [-0.08640858  0.06985153]\n",
      " [-0.0213333   0.22119586]\n",
      " [ 0.30461654  0.13535096]\n",
      " [ 0.3025599  -0.32555854]\n",
      " [ 0.31679606 -0.45637947]\n",
      " [-0.4527376  -0.4893599 ]\n",
      " [-0.46478483  0.62362915]\n",
      " [-0.8536994   0.2476305 ]\n",
      " [ 0.9439782  -0.33000776]\n",
      " [ 0.          0.        ]\n",
      " [ 0.08723553 -0.068816  ]\n",
      " [-0.07438628 -0.20940247]\n",
      " [-0.24535014 -0.22564223]\n",
      " [-0.3377649   0.28886977]\n",
      " [ 0.45919636  0.31269905]\n",
      " [ 0.5456134  -0.3830802 ]\n",
      " [-0.58512723 -0.5124104 ]\n",
      " [-0.48534107 -0.74469286]\n",
      " [-0.98482966 -0.17352384]]\n"
     ]
    }
   ],
   "source": [
    "# Create dataset or load dataset\n",
    "X, y = spiral_data(samples=10, classes=3)\n",
    "\n",
    "print(X)"
   ]
  },
  {
   "cell_type": "code",
   "execution_count": 35,
   "metadata": {},
   "outputs": [],
   "source": [
    "# Create Dense layer with 2 input features and 3 output values\n",
    "dense1 = Layer_Dense(2, 3)"
   ]
  },
  {
   "cell_type": "code",
   "execution_count": 36,
   "metadata": {},
   "outputs": [],
   "source": [
    "# Perform a forward pass of our training data through this layer\n",
    "dense1.forward(X)"
   ]
  },
  {
   "cell_type": "code",
   "execution_count": 38,
   "metadata": {},
   "outputs": [
    {
     "name": "stdout",
     "output_type": "stream",
     "text": [
      "[[ 0.0000000e+00  0.0000000e+00  0.0000000e+00]\n",
      " [ 4.4398929e-04 -4.7971696e-07  1.2203632e-03]\n",
      " [-1.4110996e-03 -1.5594478e-03 -1.8318458e-03]\n",
      " [-2.1227768e-03 -2.3947544e-03 -2.6917229e-03]\n",
      " [ 1.0918468e-03  3.9641615e-03 -2.1982705e-03]]\n"
     ]
    }
   ],
   "source": [
    "# Let's see output of the first few samples:\n",
    "print(dense1.output[:5])"
   ]
  },
  {
   "cell_type": "markdown",
   "metadata": {},
   "source": [
    "**Without dense layers**"
   ]
  },
  {
   "cell_type": "code",
   "execution_count": null,
   "metadata": {},
   "outputs": [],
   "source": [
    "# Sample inputs, weights, and biases\n",
    "inputs = [1.0, 2.0]\n",
    "\n",
    "#Randomly chosen for each connection (2 inputs, 3 neurons)\n",
    "weights = [\n",
    "    [0.2, 0.8],  # Weights for Neuron 1\n",
    "    [-0.5, 0.9], # Weights for Neuron 2\n",
    "    [0.7, -0.3]  # Weights for Neuron 3\n",
    "]\n",
    "biases = [0.5, -1.0, 0.2]\n",
    "\n",
    "# this code equal to the forward calculates the ouput using \n",
    "# np.dot(inputs, self.weights) + self.biases \n",
    "# which represents the formula: output=(inputs × weights)+biases\n",
    "# Manually calculate the outputs\n",
    "output = [\n",
    "    inputs[0] * weights[0][0] + inputs[1] * weights[0][1] + biases[0],\n",
    "    inputs[0] * weights[1][0] + inputs[1] * weights[1][1] + biases[1],\n",
    "    inputs[0] * weights[2][0] + inputs[1] * weights[2][1] + biases[2]\n",
    "]\n",
    "\n",
    "print(\"Output:\", output)  # Expected: [2.3, 0.3, 0.3]\n"
   ]
  }
 ],
 "metadata": {
  "kernelspec": {
   "display_name": "base",
   "language": "python",
   "name": "python3"
  },
  "language_info": {
   "codemirror_mode": {
    "name": "ipython",
    "version": 3
   },
   "file_extension": ".py",
   "mimetype": "text/x-python",
   "name": "python",
   "nbconvert_exporter": "python",
   "pygments_lexer": "ipython3",
   "version": "3.9.13"
  }
 },
 "nbformat": 4,
 "nbformat_minor": 2
}
