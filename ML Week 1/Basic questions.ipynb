{
 "cells": [
  {
   "cell_type": "markdown",
   "id": "31e204c0",
   "metadata": {},
   "source": [
    "### 1. How do you reverse a string in Python?**"
   ]
  },
  {
   "cell_type": "code",
   "execution_count": 1,
   "id": "f92a3323",
   "metadata": {},
   "outputs": [
    {
     "data": {
      "text/plain": [
       "'dlroW olleH'"
      ]
     },
     "execution_count": 1,
     "metadata": {},
     "output_type": "execute_result"
    }
   ],
   "source": [
    "# if you have a string s how do you reverse a string in Python\n",
    "s = \"Hello World\"\n",
    "def reverse_the_string(s):\n",
    "    return s[::-1]\n",
    "reverse_the_string(s)"
   ]
  },
  {
   "cell_type": "markdown",
   "id": "bc4590cf",
   "metadata": {},
   "source": [
    "### 2. What is the difference between a list and a Dictionary?\n",
    "\n",
    "**1. List**\n",
    "• A mutable data structure. • Can store heterogeneous data types. • Uses an index-based data structure. • Useful for storing multiple values of the\n",
    "same data type.\n",
    "\n",
    "**2. Dictionary**\n",
    "• A key-value data structure. • A mutable data structure. • Useful for storing student data, customer details, etc.. Here are some other data\n",
    "structures in Python: Arrays, Strings, Queues, Stacks, Trees, Linked lists, Graphs"
   ]
  },
  {
   "cell_type": "markdown",
   "id": "176c70ba",
   "metadata": {},
   "source": [
    "### 3. Write a function that checks if a given word is a palindrome."
   ]
  },
  {
   "cell_type": "code",
   "execution_count": 2,
   "id": "6d08731e",
   "metadata": {},
   "outputs": [
    {
     "name": "stdout",
     "output_type": "stream",
     "text": [
      "True\n",
      "False\n",
      "True\n",
      "False\n"
     ]
    }
   ],
   "source": [
    "def is_palindrome(word):\n",
    "    \"\"\"\n",
    "    Checks if a given word is a palindrome.\n",
    "    \n",
    "    Parameters:\n",
    "    word (str): The word to check.\n",
    "    \n",
    "    Returns:\n",
    "    bool: True if the word is a palindrome, False otherwise.\n",
    "    \"\"\"\n",
    "    # Convert the word to lowercase to make the check case-insensitive\n",
    "    word = word.lower()\n",
    "    \n",
    "    # Compare the word with its reverse\n",
    "    return word == word[::-1]\n",
    "\n",
    "# Example usage\n",
    "print(is_palindrome(\"radar\"))  \n",
    "print(is_palindrome(\"hello\"))  \n",
    "print(is_palindrome(\"Level\"))  \n",
    "print(is_palindrome(\"world\"))  \n",
    "\n"
   ]
  },
  {
   "cell_type": "markdown",
   "id": "b5d9a0c9",
   "metadata": {},
   "source": [
    "### 4. How can you remove duplicates from a list?"
   ]
  },
  {
   "cell_type": "code",
   "execution_count": 3,
   "id": "656a51f1",
   "metadata": {},
   "outputs": [
    {
     "data": {
      "text/plain": [
       "[1, 2, 4, 5, 6]"
      ]
     },
     "execution_count": 3,
     "metadata": {},
     "output_type": "execute_result"
    }
   ],
   "source": [
    "l = [1,2,2,4,4,5,6]\n",
    "def remove_duplicates(l):\n",
    "    return list(set(l))\n",
    "remove_duplicates(l)"
   ]
  },
  {
   "cell_type": "markdown",
   "id": "806509b8",
   "metadata": {},
   "source": [
    "### 5. What is a lambda function? Provide an example."
   ]
  },
  {
   "cell_type": "markdown",
   "id": "6db04d85",
   "metadata": {},
   "source": [
    "In Python, a lambda function is a small, anonymous function defined using the lambda keyword. Lambda functions are also sometimes referred\n",
    "to as anonymous functions or lambda expressions. The primary purpose of lambda functions is to create small, one-time-use functions without\n",
    "formally defining a full function using the def keyword."
   ]
  },
  {
   "cell_type": "code",
   "execution_count": 4,
   "id": "adda4b33",
   "metadata": {},
   "outputs": [
    {
     "name": "stdout",
     "output_type": "stream",
     "text": [
      "5\n"
     ]
    }
   ],
   "source": [
    "add = lambda x, y: x + y\n",
    "print(add(2, 3))"
   ]
  },
  {
   "cell_type": "markdown",
   "id": "aa6d44b3",
   "metadata": {},
   "source": [
    "In this example, the lambda function takes two arguments ( x and y ) and returns their sum. It is equivalent to the following regular function:"
   ]
  },
  {
   "cell_type": "markdown",
   "id": "424050c5",
   "metadata": {},
   "source": [
    "### Sets in Python - Interview Questions"
   ]
  },
  {
   "cell_type": "markdown",
   "id": "3db48328",
   "metadata": {},
   "source": [
    "**1.Can you explain the concept of sets in Python?**"
   ]
  },
  {
   "cell_type": "markdown",
   "id": "363b7b0b",
   "metadata": {},
   "source": [
    "In Python, a set is an unordered and mutable collection of unique elements.\n",
    "\n",
    "The key characteristics of sets are their ability to store distinct values and the absence of\n",
    "any defined order among the elements. Sets are defined using curly braces {}, and\n",
    "elements are separated by commas\n",
    "\n",
    "The uniqueness property of sets ensures that duplicate elements are automatically\n",
    "eliminated. Sets support a variety of operations such as union, intersection, difference,\n",
    "and symmetric difference, making them versatile for tasks involving the comparison and\n",
    "manipulation of collections.\n",
    "\n",
    "it's important to note that while sets themselves are mutable (elements can be added\n",
    "or removed), elements within a set must be of immutable data types (e.g., numbers,\n",
    "strings, or tuples). (note-If mutability is not required, Python offers an immutable\n",
    "version of sets called \"frozensets,\" created using the frozenset() constructor.)\n"
   ]
  },
  {
   "cell_type": "markdown",
   "id": "64932862",
   "metadata": {},
   "source": [
    "**2.How do you create an empty set in Python, and what is the key difference between an empty set and an empty dictionary?**"
   ]
  },
  {
   "cell_type": "code",
   "execution_count": 5,
   "id": "ee89eff1",
   "metadata": {},
   "outputs": [
    {
     "name": "stdout",
     "output_type": "stream",
     "text": [
      "<class 'dict'>\n"
     ]
    }
   ],
   "source": [
    "# if we use curley braces for empty set then\n",
    "s = {}\n",
    "print(type(s))"
   ]
  },
  {
   "cell_type": "markdown",
   "id": "ebfcbf55",
   "metadata": {},
   "source": [
    "but it gives type is Dictionary so for the creation of empty set we use differnet Syntax"
   ]
  },
  {
   "cell_type": "code",
   "execution_count": 6,
   "id": "eb7503d0",
   "metadata": {},
   "outputs": [
    {
     "name": "stdout",
     "output_type": "stream",
     "text": [
      "<class 'set'>\n"
     ]
    }
   ],
   "source": [
    "# create empty set \n",
    "s = set()\n",
    "print(type(s))"
   ]
  },
  {
   "cell_type": "markdown",
   "id": "adcdf0f6",
   "metadata": {},
   "source": [
    "Use Cases:\n",
    "Empty Set:\n",
    "1. Suitable when there is a need for a collection with distinct and unordered elements.\n",
    "2. Ideal for tasks involving set operations such as union, intersection, and difference.\n",
    "Empty Dictionary:\n",
    "1. Used when data needs to be stored and retrieved based on specific keys.\n",
    "2. Essential for scenarios where a mapping between keys and values is necessary.\n",
    "In summary, an empty set is a collection of unique and unordered elements created using\n",
    "the set() constructor, while an empty dictionary is a data structure used for storing key-value pairs, created using the {} notation or the dict() constructor. Understanding the intended\n",
    "purpose and structure of each is crucial in choosing the appropriate data structure for a\n",
    "given task.\n"
   ]
  },
  {
   "cell_type": "markdown",
   "id": "6c6e28a9",
   "metadata": {},
   "source": [
    "**3.If you have an empty set, how would you add elements using a built-in\n",
    "function in Python?**"
   ]
  },
  {
   "cell_type": "code",
   "execution_count": 7,
   "id": "78cd6c57",
   "metadata": {},
   "outputs": [
    {
     "name": "stdout",
     "output_type": "stream",
     "text": [
      "{1, 3.14, 'hello'}\n"
     ]
    }
   ],
   "source": [
    "# Create an empty set\n",
    "my_set = set()\n",
    "# Add elements to the set using the add() method\n",
    "my_set.add(1)\n",
    "my_set.add('hello')\n",
    "my_set.add(3.14)\n",
    "# Display the updated set\n",
    "print(my_set)"
   ]
  },
  {
   "cell_type": "markdown",
   "id": "df08324c",
   "metadata": {},
   "source": [
    "**4.How can you find the intersection of two sets in Python?**"
   ]
  },
  {
   "cell_type": "code",
   "execution_count": 8,
   "id": "76730577",
   "metadata": {},
   "outputs": [
    {
     "name": "stdout",
     "output_type": "stream",
     "text": [
      "{3, 4, 5}\n"
     ]
    }
   ],
   "source": [
    "set1 = {1, 2, 3, 4, 5}\n",
    "set2 = {3, 4, 5, 6, 7}\n",
    "intersection_set = set1.intersection(set2)\n",
    "print(intersection_set)"
   ]
  },
  {
   "cell_type": "markdown",
   "id": "3025f1a5",
   "metadata": {},
   "source": [
    "### Tuples Interview Questions"
   ]
  },
  {
   "cell_type": "markdown",
   "id": "4ca5035e",
   "metadata": {},
   "source": [
    "**1.Explain the difference between a tuple and a list in Python. Provide an\n",
    "example of when you would use each.**\n",
    "\n",
    "Answer: A tuple is an immutable sequence, and its elements cannot be changed after\n",
    "creation, while a list is mutable. Tuples are created using parentheses, and lists use square\n",
    "brackets. Use a tuple when you want to represent a fixed collection of items, and a list when\n",
    "you need a dynamic and mutable sequence.\n"
   ]
  },
  {
   "cell_type": "markdown",
   "id": "9b6f5812",
   "metadata": {},
   "source": [
    "**2.How can you reverse a tuple in Python?**\n",
    "\n",
    "Answer: Tuples are immutable, so you cannot reverse them in place. However, you can\n",
    "create a new tuple with reversed elements using slicing"
   ]
  },
  {
   "cell_type": "code",
   "execution_count": 9,
   "id": "194876fc",
   "metadata": {},
   "outputs": [
    {
     "data": {
      "text/plain": [
       "(4, 3, 2, 1)"
      ]
     },
     "execution_count": 9,
     "metadata": {},
     "output_type": "execute_result"
    }
   ],
   "source": [
    "original_tuple = (1, 2, 3, 4)\n",
    "reversed_tuple = original_tuple[::-1]\n",
    "reversed_tuple"
   ]
  },
  {
   "cell_type": "markdown",
   "id": "ec669493",
   "metadata": {},
   "source": [
    "**3.How can you sort a list of tuples based on the second element of each\n",
    "tuple?**"
   ]
  },
  {
   "cell_type": "code",
   "execution_count": 10,
   "id": "ca0c4ff3",
   "metadata": {},
   "outputs": [
    {
     "data": {
      "text/plain": [
       "[(1, 4), (3, 7), (2, 8)]"
      ]
     },
     "execution_count": 10,
     "metadata": {},
     "output_type": "execute_result"
    }
   ],
   "source": [
    "my_list = [(3, 7), (1, 4), (2, 8)]\n",
    "sorted_list = sorted(my_list, key=lambda x: x[1])\n",
    "sorted_list"
   ]
  },
  {
   "cell_type": "markdown",
   "id": "89d9e5a4",
   "metadata": {},
   "source": [
    "**4.Find the length of a tuple.**"
   ]
  },
  {
   "cell_type": "code",
   "execution_count": 11,
   "id": "ae9ff4dd",
   "metadata": {},
   "outputs": [
    {
     "name": "stdout",
     "output_type": "stream",
     "text": [
      "5\n"
     ]
    }
   ],
   "source": [
    "tup = (1, 2, 3, 4, 5)\n",
    "length = len(tup)\n",
    "print(length) "
   ]
  },
  {
   "cell_type": "markdown",
   "id": "f0de83e7",
   "metadata": {},
   "source": [
    "**5.Find the first and last elements of a tuple.**"
   ]
  },
  {
   "cell_type": "code",
   "execution_count": 12,
   "id": "02887464",
   "metadata": {},
   "outputs": [
    {
     "name": "stdout",
     "output_type": "stream",
     "text": [
      "First: 10\n",
      "Last: 50\n"
     ]
    }
   ],
   "source": [
    "# Solution:\n",
    "def first_last_elements(tup):\n",
    "    return tup[0], tup[-1]\n",
    "tup = (10, 20, 30, 40, 50)\n",
    "first, last = first_last_elements(tup)\n",
    "print(\"First:\", first) # Output: First: 10\n",
    "print(\"Last:\", last) # Output: Last: 50\n"
   ]
  },
  {
   "cell_type": "markdown",
   "id": "d1f53cf1",
   "metadata": {},
   "source": [
    "### List Interview Questions"
   ]
  },
  {
   "cell_type": "markdown",
   "id": "2c02a6c3",
   "metadata": {},
   "source": [
    "**1.How do you reverse a list in Python?**"
   ]
  },
  {
   "cell_type": "code",
   "execution_count": 13,
   "id": "0b0cd2db",
   "metadata": {},
   "outputs": [
    {
     "name": "stdout",
     "output_type": "stream",
     "text": [
      "[5, 4, 3, 2, 1]\n"
     ]
    }
   ],
   "source": [
    "l = [1,2,3,4,5]\n",
    "# solution 1\n",
    "def reverse_list(l):\n",
    "    return l[::-1]\n",
    "reverse_list(l)\n",
    "\n",
    "# solution 2\n",
    "reverse_list = l[::-1]\n",
    "print(reverse_list)\n"
   ]
  },
  {
   "cell_type": "markdown",
   "id": "10e485a7",
   "metadata": {},
   "source": [
    "**2. Explain the difference between append() and extend() methods in Python\n",
    "lists.**"
   ]
  },
  {
   "cell_type": "markdown",
   "id": "06d93107",
   "metadata": {},
   "source": [
    "Answer:\n",
    "append() adds a single element to the end of the list.\n",
    "\n",
    "extend() adds elements of an iterable (list, tuple, etc.) to the end of the list."
   ]
  },
  {
   "cell_type": "code",
   "execution_count": 14,
   "id": "27dfd24d",
   "metadata": {},
   "outputs": [
    {
     "name": "stdout",
     "output_type": "stream",
     "text": [
      "[1, 2, 3, 4]\n",
      "[1, 2, 3, 4, 4, 5, 6]\n"
     ]
    }
   ],
   "source": [
    "list1 = [1, 2, 3]\n",
    "list2 = [4, 5, 6]\n",
    "list1.append(4) \n",
    "print(list1)\n",
    "list1.extend(list2)\n",
    "print(list1)"
   ]
  },
  {
   "cell_type": "markdown",
   "id": "872a07c5",
   "metadata": {},
   "source": [
    "**3. Explain the pop() method in Python lists.**"
   ]
  },
  {
   "cell_type": "markdown",
   "id": "951c4d06",
   "metadata": {},
   "source": [
    "Answer: The pop() method removes and returns the item at the specified index (default is\n",
    "the last item)"
   ]
  },
  {
   "cell_type": "code",
   "execution_count": 15,
   "id": "350161c8",
   "metadata": {},
   "outputs": [
    {
     "data": {
      "text/plain": [
       "[1, 2, 4, 5]"
      ]
     },
     "execution_count": 15,
     "metadata": {},
     "output_type": "execute_result"
    }
   ],
   "source": [
    "my_list = [1, 2, 3, 4, 5]\n",
    "popped_item = my_list.pop(2) # Removes and returns the item at index 2 (3)\n",
    "my_list"
   ]
  },
  {
   "cell_type": "markdown",
   "id": "81f55817",
   "metadata": {},
   "source": [
    "**4. Explain list comprehension in Python**"
   ]
  },
  {
   "cell_type": "markdown",
   "id": "3f451074",
   "metadata": {},
   "source": [
    "Answer: List comprehension is a concise way to create lists. It consists of an expression\n",
    "followed by at least one for clause and zero or more if clauses."
   ]
  },
  {
   "cell_type": "code",
   "execution_count": 16,
   "id": "ceb19558",
   "metadata": {},
   "outputs": [
    {
     "name": "stdout",
     "output_type": "stream",
     "text": [
      "[1, 4, 9, 16, 25]\n"
     ]
    }
   ],
   "source": [
    "squares = [x**2 for x in range(1, 6)] # [1, 4, 9, 16, 25]\n",
    "print(squares)"
   ]
  },
  {
   "cell_type": "markdown",
   "id": "9c4a1d6e",
   "metadata": {},
   "source": [
    "### Python Usecases Interview Questions"
   ]
  },
  {
   "cell_type": "markdown",
   "id": "fcaa2c10",
   "metadata": {},
   "source": [
    "**1.Given two lists, write a function that returns the elements that are\n",
    "common to both lists.**"
   ]
  },
  {
   "cell_type": "code",
   "execution_count": 17,
   "id": "3aa71a91",
   "metadata": {},
   "outputs": [
    {
     "data": {
      "text/plain": [
       "[3, 4, 5]"
      ]
     },
     "execution_count": 17,
     "metadata": {},
     "output_type": "execute_result"
    }
   ],
   "source": [
    "# given lists \n",
    "l1 = [1, 2, 3, 4, 5]\n",
    "l2 = [3, 4, 5, 6, 7]\n",
    "# function for the commmon elements\n",
    "def find_common_element(list1,list2):\n",
    "    common_element = list(set(list1) & set(list2))\n",
    "    return common_element\n",
    "find_common_element(l1,l2)"
   ]
  },
  {
   "cell_type": "markdown",
   "id": "755138a0",
   "metadata": {},
   "source": [
    "**2. Write a Python function to merge two dictionaries. If both\n",
    "dictionaries have the same key, prefer the second dictionary's value.**"
   ]
  },
  {
   "cell_type": "code",
   "execution_count": 18,
   "id": "9653bbce",
   "metadata": {},
   "outputs": [
    {
     "name": "stdout",
     "output_type": "stream",
     "text": [
      "{'a': 1, 'b': 3, 'c': 4}\n"
     ]
    }
   ],
   "source": [
    "# function \n",
    "def merge_two_dictionaries(dict1,dict2):\n",
    "    merged = dict1.copy()\n",
    "    merged.update(dict2)\n",
    "    return merged\n",
    "dict1 = {'a': 1, 'b': 2}\n",
    "dict2 = {'b': 3, 'c': 4}\n",
    "print(merge_two_dictionaries(dict1, dict2)) "
   ]
  },
  {
   "cell_type": "markdown",
   "id": "41ca7a63",
   "metadata": {},
   "source": [
    "**3.Given a list of numbers, write a function to compute the mean, median,\n",
    "and mode.**"
   ]
  },
  {
   "cell_type": "code",
   "execution_count": 19,
   "id": "5078bd82",
   "metadata": {},
   "outputs": [
    {
     "name": "stdout",
     "output_type": "stream",
     "text": [
      "{'mean': 3.888888888888889, 'median': 4, 'mode': 5}\n"
     ]
    }
   ],
   "source": [
    "# list\n",
    "numbers = [1, 2, 3, 4, 4, 5, 5, 5, 6]\n",
    "from statistics import mean, median, mode\n",
    "def central_measures(numbers):\n",
    "    return {'mean': mean(numbers),\n",
    "            'median': median(numbers),\n",
    "            'mode': mode(numbers)\n",
    "           }\n",
    " \n",
    "print(central_measures(numbers))"
   ]
  },
  {
   "cell_type": "markdown",
   "id": "db2c2105",
   "metadata": {},
   "source": [
    "**4.Write a function to check if a given string is a palindrome.**"
   ]
  },
  {
   "cell_type": "code",
   "execution_count": 20,
   "id": "219397ee",
   "metadata": {},
   "outputs": [
    {
     "name": "stdout",
     "output_type": "stream",
     "text": [
      "True\n"
     ]
    }
   ],
   "source": [
    "def is_palindrome(s):\n",
    "    return s == s[::-1]\n",
    "string = \"radar\"\n",
    "print(is_palindrome(string))"
   ]
  },
  {
   "cell_type": "markdown",
   "id": "46acf81e",
   "metadata": {},
   "source": [
    "**5.Write a function to compute the factorial of a number using iteration.**"
   ]
  },
  {
   "cell_type": "code",
   "execution_count": 21,
   "id": "10fec854",
   "metadata": {},
   "outputs": [
    {
     "name": "stdout",
     "output_type": "stream",
     "text": [
      "120\n"
     ]
    }
   ],
   "source": [
    "def factorial_iterative(n):\n",
    "    result = 1\n",
    "    for i in range(2, n+1):\n",
    "        result *= i\n",
    "    return result\n",
    "number = 5\n",
    "print(factorial_iterative(number))\n"
   ]
  },
  {
   "cell_type": "markdown",
   "id": "b5afd63d",
   "metadata": {},
   "source": [
    "# More general questions"
   ]
  },
  {
   "cell_type": "markdown",
   "id": "1b2480f7",
   "metadata": {},
   "source": [
    "### 1. Write a program that will convert celsius value to fahrenheit."
   ]
  },
  {
   "cell_type": "code",
   "execution_count": 22,
   "id": "49a8dd1d",
   "metadata": {},
   "outputs": [
    {
     "name": "stdout",
     "output_type": "stream",
     "text": [
      "Enter the temperature in celsius: 50\n",
      "celsius input: 50.0\n",
      "50.0 degrees Celsius is equal to 122.0 degrees Fahrenheit.\n"
     ]
    }
   ],
   "source": [
    "def celsius_to_fahrengeit(celsius):\n",
    "    fahrenheit = (celsius * 9/5) + 32\n",
    "    return fahrenheit\n",
    "# get the celsius input from the user\n",
    "celsius_input = float(input('Enter the temperature in celsius: '))\n",
    "print('celsius input:',celsius_input)\n",
    "# convert celsius to far\n",
    "result = celsius_to_fahrengeit(celsius_input)\n",
    "# display the result\n",
    "print(f\"{celsius_input} degrees Celsius is equal to {result} degrees Fahrenheit.\")"
   ]
  },
  {
   "cell_type": "markdown",
   "id": "5999ec55",
   "metadata": {},
   "source": [
    "### 2. Take 2 numbers as input from the user.Write a program to swap the numbers without using any special python syntax."
   ]
  },
  {
   "cell_type": "code",
   "execution_count": 23,
   "id": "f14fd993",
   "metadata": {},
   "outputs": [
    {
     "name": "stdout",
     "output_type": "stream",
     "text": [
      "first number1\n",
      "secound number2\n",
      "Before swapping: num1 = 1.0, num2 = 2.0\n",
      "After swapping: num1 = 2.0, num2 = 1.0\n"
     ]
    }
   ],
   "source": [
    "# get two numbers from the user\n",
    "num1 = float(input('first number'))\n",
    "num2 = float(input('secound number'))\n",
    "# display the number which is provided by user\n",
    "print(f\"Before swapping: num1 = {num1}, num2 = {num2}\")\n",
    "# swap the number using temporial vaariable\n",
    "temp = num1\n",
    "num1 = num2\n",
    "num2 = temp\n",
    "# Display the numbers after swapping\n",
    "print(f\"After swapping: num1 = {num1}, num2 = {num2}\")"
   ]
  },
  {
   "cell_type": "markdown",
   "id": "29e1a47b",
   "metadata": {},
   "source": [
    "### 3. Write a program to find the euclidean distance between two coordinates.Take both the coordinates from the user as input."
   ]
  },
  {
   "cell_type": "code",
   "execution_count": 24,
   "id": "ced0536d",
   "metadata": {},
   "outputs": [
    {
     "name": "stdout",
     "output_type": "stream",
     "text": [
      "Enter the x-coordinate of the first point: 4\n",
      "Enter the y-coordinate of the first point: 5\n",
      "Enter the x-coordinate of the second point: 1\n",
      "Enter the y-coordinate of the second point: 2\n",
      "The Euclidean distance between (4.0, 5.0) and (1.0, 2.0) is 4.24\n"
     ]
    }
   ],
   "source": [
    "import math\n",
    "\n",
    "# Get input from the user for the first coordinate\n",
    "x1 = float(input(\"Enter the x-coordinate of the first point: \"))\n",
    "y1 = float(input(\"Enter the y-coordinate of the first point: \"))\n",
    "\n",
    "# Get input from the user for the second coordinate\n",
    "x2 = float(input(\"Enter the x-coordinate of the second point: \"))\n",
    "y2 = float(input(\"Enter the y-coordinate of the second point: \"))\n",
    "\n",
    "# Calculate the Euclidean distance\n",
    "distance = math.sqrt((x2 - x1)**2 + (y2 - y1)**2)\n",
    "\n",
    "# Print the result\n",
    "print(f\"The Euclidean distance between ({x1}, {y1}) and ({x2}, {y2}) is {distance:.2f}\")\n"
   ]
  }
 ],
 "metadata": {
  "kernelspec": {
   "display_name": "Python 3 (ipykernel)",
   "language": "python",
   "name": "python3"
  },
  "language_info": {
   "codemirror_mode": {
    "name": "ipython",
    "version": 3
   },
   "file_extension": ".py",
   "mimetype": "text/x-python",
   "name": "python",
   "nbconvert_exporter": "python",
   "pygments_lexer": "ipython3",
   "version": "3.10.9"
  }
 },
 "nbformat": 4,
 "nbformat_minor": 5
}
