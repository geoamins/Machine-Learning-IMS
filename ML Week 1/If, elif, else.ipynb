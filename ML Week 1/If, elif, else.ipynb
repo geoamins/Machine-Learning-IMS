{
 "cells": [
  {
   "cell_type": "markdown",
   "id": "eb9027d6",
   "metadata": {},
   "source": [
    "# IF Else statement"
   ]
  },
  {
   "cell_type": "markdown",
   "id": "9ebf5f2c",
   "metadata": {},
   "source": [
    "**In Python, \"if\" and \"else\" are used to make decisions in your code. Imagine you're deciding what to wear based on the weather. If it's raining, you'll wear a raincoat. If it's sunny, you might choose sunglasses instead.**\n",
    "\n",
    "**The \"else\" part is used to handle what happens when the initial condition (checking if it's rainy) is not true. Think of it as a fallback plan. If the first condition doesn't match, the \"else\" part tells the program what to do instead.**\n",
    "\n",
    "#### IMPORTANT: \n",
    " Never skip the colons at the end of the if and else lines\n",
    " Never skip the indentation (a tab or four spaces) at the at the begining of the statement-lines."
   ]
  },
  {
   "cell_type": "code",
   "execution_count": 2,
   "id": "8580ba90",
   "metadata": {},
   "outputs": [
    {
     "name": "stdout",
     "output_type": "stream",
     "text": [
      "Wear a raincoat.\n"
     ]
    }
   ],
   "source": [
    "weather = \"rainy\"\n",
    "\n",
    "if weather == \"rainy\":    # with if, you can use comparison and logical operators. \n",
    "    print(\"Wear a raincoat.\")\n",
    "else:\n",
    "    print(\"Wear sunglasses.\")"
   ]
  },
  {
   "cell_type": "markdown",
   "id": "887f8e6a",
   "metadata": {},
   "source": [
    "<html>\n",
    "<body>\n",
    "<h3>Comparion and Logical operators</h3>\n",
    "<h4>lets a=1 <br> b=2 <br>c = True <br> d=False</h4>\n",
    "   <table border=\"1\">\n",
    "        <tr>\n",
    "            <td>Operator</td><td>What does it evaluate</td><td>Results</td>\n",
    "        </tr>\n",
    "        <tr><td>a == b</td><td>if a equals b</td><td>False</td></tr>\n",
    "        <tr><td>a != b</td><td>if a doesn't equal b</td><td>True</td></tr>\n",
    "        <tr><td>a < b</td><td>if is less than b</td><td>True</td></tr>\n",
    "        <tr><td>a > b</td><td>if greater than b</td><td>False</td></tr>\n",
    "        <tr><td>c and d </td><td>if both c and d are True </td><td>False</td></tr>\n",
    "        <tr><td>c or d </td><td>if either c or d is True </td><td>True</td></tr>\n",
    "        <tr><td>not c </td><td>return the opposite of c</td><td>False</td></tr>\n",
    "   </table>\n",
    "</body>\n",
    "</html>"
   ]
  },
  {
   "cell_type": "markdown",
   "id": "94de081d",
   "metadata": {},
   "source": [
    "1 + 1 # addition\n",
    "\n",
    "2 - 1 # subtraction\n",
    "\n",
    "3 * 2 # multiplication\n",
    "\n",
    "4 / 2 # division\n",
    "\n",
    "4 % 2 # modulo  \n",
    "\n",
    "a=5 ** 2 # exponentiation\n",
    "\n",
    "a"
   ]
  },
  {
   "cell_type": "markdown",
   "id": "34d44e1d",
   "metadata": {},
   "source": [
    "# if, elif, else"
   ]
  },
  {
   "cell_type": "markdown",
   "id": "598f01d8",
   "metadata": {},
   "source": [
    "**\"elif\" stands for \"else if\" and allows us to check multiple conditions one after another. It’s used when you have more than two possible choices. Instead of just having one fallback plan with \"else\", \"elif\" lets you check additional conditions.**\n",
    "\n",
    "**You can have multiple \"elif\", and all are checked sequentially. Whichever is checked to be true, the ones after it are then not checked at all**"
   ]
  },
  {
   "cell_type": "code",
   "execution_count": 4,
   "id": "fa13bff2",
   "metadata": {},
   "outputs": [
    {
     "name": "stdout",
     "output_type": "stream",
     "text": [
      "Wear a jacket.\n"
     ]
    }
   ],
   "source": [
    "weather = \"cloudy\"\n",
    "\n",
    "if weather == \"rainy\":\n",
    "    print(\"Wear a raincoat.\")\n",
    "    \n",
    "elif weather == \"cloudy\":\n",
    "    print(\"Wear a jacket.\")\n",
    "    \n",
    "elif weather == \"Snowy\":\n",
    "    print(\"Wear a coat and Jacket\")\n",
    "    \n",
    "else:\n",
    "    print(\"Wear sunglasses.\")"
   ]
  }
 ],
 "metadata": {
  "kernelspec": {
   "display_name": "Python 3 (ipykernel)",
   "language": "python",
   "name": "python3"
  },
  "language_info": {
   "codemirror_mode": {
    "name": "ipython",
    "version": 3
   },
   "file_extension": ".py",
   "mimetype": "text/x-python",
   "name": "python",
   "nbconvert_exporter": "python",
   "pygments_lexer": "ipython3",
   "version": "3.10.9"
  }
 },
 "nbformat": 4,
 "nbformat_minor": 5
}
