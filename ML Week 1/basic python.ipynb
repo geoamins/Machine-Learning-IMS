{
 "cells": [
  {
   "cell_type": "markdown",
   "metadata": {},
   "source": [
    "# Variables & Data types in Python"
   ]
  },
  {
   "cell_type": "markdown",
   "metadata": {},
   "source": [
    "#### Basic data types such as Integer, Float, String, Boolean\n",
    "#### Note: There is no need to worry about to mention the type explicitly with the variable"
   ]
  },
  {
   "cell_type": "code",
   "execution_count": 2,
   "metadata": {},
   "outputs": [
    {
     "name": "stdout",
     "output_type": "stream",
     "text": [
      "a= 10 b= 10.5 c= True d= Hello Dear students\n"
     ]
    }
   ],
   "source": [
    "a=10\n",
    "b=10.5\n",
    "c= True\n",
    "d=\"Hello Dear students\" \n",
    "\n",
    "print (\"a=\", a, \"b=\", b, \"c=\", c, \"d=\",d)"
   ]
  },
  {
   "cell_type": "markdown",
   "metadata": {},
   "source": [
    "# Arithmetic operation & operators\n",
    "basicly, we have different of types of arithmetic operators such as:\n",
    "a+b adds a and b\n",
    "a-b substract b from a\n",
    "a*b multipy a with b\n",
    "a/b dives a by b\n",
    "a%b divides a by b and returns remainder\n",
    "a**b raises a to the power of b"
   ]
  },
  {
   "cell_type": "code",
   "execution_count": 4,
   "metadata": {},
   "outputs": [
    {
     "name": "stdout",
     "output_type": "stream",
     "text": [
      "a+b= 5\n",
      "a-b= -1\n",
      "a*b= 6\n",
      "a/b= 0.6666666666666666\n",
      "a%b= 2\n",
      "a^b= 8\n"
     ]
    }
   ],
   "source": [
    "# hints: use ctrl+alt+down array key for selecting the same area in multiple lines\n",
    "a=2\n",
    "b=3\n",
    "print(\"a+b=\",a+b)\n",
    "print(\"a-b=\",a-b)\n",
    "print(\"a*b=\",a*b)\n",
    "print(\"a/b=\",a/b)\n",
    "print(\"a%b=\",a%b)\n",
    "print(\"a^b=\",a**b)"
   ]
  },
  {
   "cell_type": "markdown",
   "metadata": {},
   "source": [
    "# Basic data structure\n",
    "It is used to organized your data and store in similar data points in same locations. there are basically four different data structure in python.\n",
    "1. Lists\n",
    "2. Tuples\n",
    "3. Sets\n",
    "4. Dictionary"
   ]
  },
  {
   "cell_type": "markdown",
   "metadata": {},
   "source": [
    "## Lists\n",
    "A list is a sequence of values/elements. it can store integers, strings, booleans, float, and mixture of these data types. it is always presenting by [ ] square brackets. Python works with zero-indexing."
   ]
  },
  {
   "cell_type": "code",
   "execution_count": 7,
   "metadata": {},
   "outputs": [
    {
     "name": "stdout",
     "output_type": "stream",
     "text": [
      "[1, 2, 3, 1.5, 2.0, 2.5, 'a', 'b', 'c', True, False]\n",
      "Value of index 3= 1.5\n"
     ]
    }
   ],
   "source": [
    "int_list=[1,2,3]\n",
    "float_list=[1.5, 2.0, 2.5]\n",
    "str_list=['a','b','c']\n",
    "bool_list=[True,False]\n",
    "mix_list=[1,2,3,1.5,2.0,2.5,'a','b','c',True,False]\n",
    "\n",
    "type(int_list), type(float_list), type(bool_list), type(mix_list)\n",
    "\n",
    "print(mix_list)\n",
    "print(\"Value of index 3=\", mix_list[3])"
   ]
  }
 ],
 "metadata": {
  "kernelspec": {
   "display_name": "base",
   "language": "python",
   "name": "python3"
  },
  "language_info": {
   "codemirror_mode": {
    "name": "ipython",
    "version": 3
   },
   "file_extension": ".py",
   "mimetype": "text/x-python",
   "name": "python",
   "nbconvert_exporter": "python",
   "pygments_lexer": "ipython3",
   "version": "3.9.13"
  }
 },
 "nbformat": 4,
 "nbformat_minor": 2
}
