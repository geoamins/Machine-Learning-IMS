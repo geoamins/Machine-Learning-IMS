{
 "cells": [
  {
   "cell_type": "markdown",
   "id": "1c63148a",
   "metadata": {},
   "source": [
    "### Simple calculation"
   ]
  },
  {
   "cell_type": "code",
   "execution_count": 38,
   "id": "74f9ae58",
   "metadata": {},
   "outputs": [
    {
     "name": "stdout",
     "output_type": "stream",
     "text": [
      "7\n"
     ]
    }
   ],
   "source": []
  },
  {
   "cell_type": "markdown",
   "id": "949d173a",
   "metadata": {},
   "source": [
    "### Variables\n",
    "##### A variable is a name that represents a value stored in the computer’s memory."
   ]
  },
  {
   "cell_type": "code",
   "execution_count": 40,
   "id": "527641a0",
   "metadata": {},
   "outputs": [
    {
     "data": {
      "text/plain": [
       "10.5"
      ]
     },
     "execution_count": 40,
     "metadata": {},
     "output_type": "execute_result"
    }
   ],
   "source": [
    "a=10    # hold integer value\n",
    "b,c=10,10.5 # hold integer and floating point value in corresponding variables\n",
    "d='a' # hold character\n",
    "e='hello world' # hold string\n",
    "a=b # hold integer value of the b which 10\n",
    "\n",
    "c"
   ]
  },
  {
   "cell_type": "code",
   "execution_count": 42,
   "id": "b4f5a68b",
   "metadata": {},
   "outputs": [
    {
     "data": {
      "text/plain": [
       "1"
      ]
     },
     "execution_count": 42,
     "metadata": {},
     "output_type": "execute_result"
    }
   ],
   "source": [
    "a,b=1,2\n",
    "c=a\n",
    "a=b\n",
    "b=c\n",
    "c"
   ]
  },
  {
   "cell_type": "code",
   "execution_count": 2,
   "id": "26524397",
   "metadata": {},
   "outputs": [
    {
     "name": "stdout",
     "output_type": "stream",
     "text": [
      "4\n"
     ]
    }
   ],
   "source": [
    "print(1+3)"
   ]
  },
  {
   "cell_type": "code",
   "execution_count": 43,
   "id": "b0c8c535",
   "metadata": {},
   "outputs": [
    {
     "name": "stdout",
     "output_type": "stream",
     "text": [
      "<class 'int'>\n",
      "<class 'int'>\n",
      "<class 'int'>\n",
      "<class 'str'>\n",
      "<class 'str'>\n"
     ]
    }
   ],
   "source": [
    "print(type(a))  # Output: int\n",
    "print(type(b))  # Output: float\n",
    "print(type(c))  # Output: float\n",
    "print(type(d))  # Output: str\n",
    "print(type(e))  # Output: str"
   ]
  },
  {
   "cell_type": "markdown",
   "id": "d7327864",
   "metadata": {},
   "source": [
    "## Data Types\n",
    "#### Boolean, String, Numeric, Sequence (List, tuple, sets), mapping (dict), binary (bytes, bytearray, memoryview)"
   ]
  },
  {
   "cell_type": "code",
   "execution_count": 45,
   "id": "6fcadf65",
   "metadata": {},
   "outputs": [
    {
     "data": {
      "text/plain": [
       "True"
      ]
     },
     "execution_count": 45,
     "metadata": {},
     "output_type": "execute_result"
    }
   ],
   "source": [
    "# Boolean \n",
    "# ========\n",
    "# Any data which can be represented as either `True` or `False`, Used when comparing two values. \n",
    "# E.g., `10 > 9`, Python will return `True`.\n",
    "# comparison >, < , >=, <=, !=, ==\n",
    "\n",
    "10>9\n"
   ]
  },
  {
   "cell_type": "code",
   "execution_count": 52,
   "id": "6ed31bb3",
   "metadata": {},
   "outputs": [
    {
     "data": {
      "text/plain": [
       "'string1 string2'"
      ]
     },
     "execution_count": 52,
     "metadata": {},
     "output_type": "execute_result"
    }
   ],
   "source": [
    "# String\n",
    "# =======\n",
    "# Any data that includes text — either letters, numbers, or special characters.\n",
    "# Strings are enclosed in either single- or double-quotation marks: \"string1\" or 'string2'.\n",
    "a=\"string1\"\n",
    "b='string2'\n",
    "a+' '+b   # + is used for concatenation \n"
   ]
  },
  {
   "cell_type": "code",
   "execution_count": 11,
   "id": "dc5d0a9e",
   "metadata": {},
   "outputs": [
    {
     "data": {
      "text/plain": [
       "246.0"
      ]
     },
     "execution_count": 11,
     "metadata": {},
     "output_type": "execute_result"
    }
   ],
   "source": [
    "# Numeric (int, float, complex)\n",
    "# =============================\n",
    "# Any data which can be represented as numerically (integer as whole numbers) e.g., 123\n",
    "# any data which can be represented as floating-point numbers e.g., 123.0\n",
    "# any data which can be represented as complex e.g., (2+3-1*3/2x)\n",
    "a=123\n",
    "b=123.0\n",
    "c=a-b+2*a\n",
    "c"
   ]
  },
  {
   "cell_type": "code",
   "execution_count": null,
   "id": "b3facc83",
   "metadata": {},
   "outputs": [],
   "source": [
    "# Sequence (list, tuple, set)\n",
    "# =========================== \n",
    "# Data that is a collection of discrete elements.\n",
    "\n",
    "# 1. List (mutable collection): [ ] \n",
    "# ----------------------------- \n",
    "# A list is collection that is ordered,  changeable, and can be duplicated. e.g., [\"Abc\", 1, 1.0,'a'].\n",
    "\n",
    "# 2. tuple (imutable collection): ( )\n",
    "# ------------------------------ \n",
    "# A tuple is a collection that is ordered, unchangeable, and can be duplicated. e.g., (\"Abc\", 1, 1.0, 'a').\n",
    "\n",
    "# 3. set (imutable collection): { }\n",
    "# A set is a collection that is unordered, unchangeable, and contains unique elements only. e.g.,  {\"Abc\", 1, 1.0, 'a'}.\n",
    "\n",
    "# 4. Mapping (dictionary): {key:value}\n",
    "# ------------------------\n",
    "# keys and values are associated with each other using a colon : and each pair is separated using a comma ,\n",
    "\n",
    "# 5. Binary \n",
    "# ------------\n",
    "# Data that is not human-readable"
   ]
  },
  {
   "cell_type": "code",
   "execution_count": 69,
   "id": "d91b3021-91bd-4bfe-9e9d-f969878b7c26",
   "metadata": {},
   "outputs": [
    {
     "name": "stdout",
     "output_type": "stream",
     "text": [
      "['apple', 'banana', 'cherry']\n"
     ]
    }
   ],
   "source": [
    "# Example of a list\n",
    "fruits = [\"apple\", \"banana\", \"cherry\"]\n",
    "print(fruits)  # Output: ['apple', 'banana', 'cherry']"
   ]
  },
  {
   "cell_type": "code",
   "execution_count": 71,
   "id": "70cdb429-252c-4749-928c-7b3ada4a519b",
   "metadata": {},
   "outputs": [
    {
     "name": "stdout",
     "output_type": "stream",
     "text": [
      "apple\n"
     ]
    }
   ],
   "source": [
    "# Accessing list elements\n",
    "print(fruits[0])  # Output: apple"
   ]
  },
  {
   "cell_type": "code",
   "execution_count": 13,
   "id": "0eaa4457",
   "metadata": {},
   "outputs": [
    {
     "name": "stdout",
     "output_type": "stream",
     "text": [
      "cherry\n"
     ]
    }
   ],
   "source": [
    "# negative indexing: accessing element of list from the end of the list\n",
    "print(fruits[-1]) # Output: ['cherry']"
   ]
  },
  {
   "cell_type": "code",
   "execution_count": null,
   "id": "df7fe830-6f1a-458f-a5ec-ac603ede35a6",
   "metadata": {},
   "outputs": [
    {
     "name": "stdout",
     "output_type": "stream",
     "text": [
      "['apple', 'banana', 'cherry', 'orange']\n"
     ]
    }
   ],
   "source": [
    "# Adding an element to the list\n",
    "fruits.append(\"orange\")\n",
    "print(fruits)  # Output: ['apple', 'banana', 'cherry', 'orange']"
   ]
  },
  {
   "cell_type": "code",
   "execution_count": null,
   "id": "90b1bc0e-b9ef-4560-bb4c-6075ba3bb8e8",
   "metadata": {},
   "outputs": [
    {
     "name": "stdout",
     "output_type": "stream",
     "text": [
      "['apple', 'cherry', 'orange']\n"
     ]
    }
   ],
   "source": [
    "# Removing an element from the list\n",
    "fruits.remove(\"banana\")\n",
    "print(fruits)  # Output: ['apple', 'cherry', 'orange']"
   ]
  },
  {
   "cell_type": "code",
   "execution_count": 4,
   "id": "fc504ce7",
   "metadata": {},
   "outputs": [
    {
     "name": "stdout",
     "output_type": "stream",
     "text": [
      "[(1, 4, 7), (2, 5, 8), (3, 6, 9)]\n"
     ]
    }
   ],
   "source": [
    "# Zipping list elements\n",
    "# ========================\n",
    "# Combining two or more lists into an object containing ordered tuples from the lists.\n",
    "list1=[1,2,3]\n",
    "list2=[4,5,6]\n",
    "list3=[7,8,9]\n",
    "new_list=zip(list1,list2,list3)\n",
    "\n",
    "print(list(new_list))    #this approach is called generator: putting one list inside another list"
   ]
  },
  {
   "cell_type": "markdown",
   "id": "453a5aec-594e-4115-bced-153e0f5a5428",
   "metadata": {},
   "source": [
    "# Dictionaries"
   ]
  },
  {
   "cell_type": "code",
   "execution_count": 8,
   "id": "89c6f108",
   "metadata": {},
   "outputs": [
    {
     "data": {
      "text/plain": [
       "20"
      ]
     },
     "execution_count": 8,
     "metadata": {},
     "output_type": "execute_result"
    }
   ],
   "source": [
    "data={\"key1\":10, \"key2\":20}\n",
    "type(data)\n",
    "data[\"key2\"]"
   ]
  },
  {
   "cell_type": "code",
   "execution_count": 15,
   "id": "7f8a5534",
   "metadata": {},
   "outputs": [
    {
     "name": "stdout",
     "output_type": "stream",
     "text": [
      "c 2\n"
     ]
    }
   ],
   "source": [
    "data={\"key1\":[1,2,3], \"key2\":['a','b','c']}\n",
    "type(data)\n",
    "print(data['key2'][2] , data['key1'][1])"
   ]
  },
  {
   "cell_type": "code",
   "execution_count": 19,
   "id": "23a0d415",
   "metadata": {},
   "outputs": [
    {
     "data": {
      "text/plain": [
       "('Usman', '=', 33)"
      ]
     },
     "execution_count": 19,
     "metadata": {},
     "output_type": "execute_result"
    }
   ],
   "source": [
    "data={\n",
    "    \"group1\":{\n",
    "        \"contact_name\":['Humayun','Usman','Abid'],\n",
    "        \"phone\": [35,33,40]\n",
    "    },\n",
    "    \"group2\":{\n",
    "        \"contact_name\":['Wazir','ahsan','shaheer'],\n",
    "        \"phone\":[31,32,30],\n",
    "    }\n",
    "\n",
    "}\n",
    "\n",
    "data[\"group1\"][\"contact_name\"][1], '=', data[\"group1\"][\"phone\"][1]\n"
   ]
  },
  {
   "cell_type": "code",
   "execution_count": 84,
   "id": "63dcf2d1-ba9e-45ca-8827-1b884dffd494",
   "metadata": {},
   "outputs": [
    {
     "name": "stdout",
     "output_type": "stream",
     "text": [
      "{'name': 'John', 'age': 25, 'courses': ['Math', 'CompSci']}\n"
     ]
    }
   ],
   "source": [
    "# Example of a dictionary.\n",
    "student = {\"name\": \"John\", \"age\": 25, \"courses\": [\"Math\", \"CompSci\"]}\n",
    "print(student)  # Output: {'name': 'John', 'age': 25, 'courses': ['Math', 'CompSci']}"
   ]
  },
  {
   "cell_type": "code",
   "execution_count": 85,
   "id": "1f31a258-c8ed-481a-a92c-55c1572c1f17",
   "metadata": {},
   "outputs": [
    {
     "name": "stdout",
     "output_type": "stream",
     "text": [
      "John\n",
      "['Math', 'CompSci']\n"
     ]
    }
   ],
   "source": [
    "# Accessing dictionary values\n",
    "print(student[\"name\"])  # Output: John\n",
    "print(student[\"courses\"])"
   ]
  },
  {
   "cell_type": "code",
   "execution_count": 87,
   "id": "f4b2181b",
   "metadata": {},
   "outputs": [
    {
     "name": "stdout",
     "output_type": "stream",
     "text": [
      "{'name': 'John', 'age': 25, 'courses': 'Python'}\n"
     ]
    }
   ],
   "source": [
    "student[\"courses\"]=\"Python\"\n",
    "print(student)"
   ]
  },
  {
   "cell_type": "code",
   "execution_count": 82,
   "id": "136ec7a0-0615-4ad7-a65b-4c0088b0f83d",
   "metadata": {},
   "outputs": [
    {
     "name": "stdout",
     "output_type": "stream",
     "text": [
      "{'name': 'John', 'age': 25, 'courses': ['Math', 'CompSci'], 'grade': 'A'}\n"
     ]
    }
   ],
   "source": [
    "# Adding a new key-value pair\n",
    "student[\"grade\"] = \"A\"\n",
    "print(student)  # Output: {'name': 'John', 'ag': 25, 'courses': ['Math', 'CompSci'], 'grade': 'A'}"
   ]
  },
  {
   "cell_type": "code",
   "execution_count": 83,
   "id": "94cc06b3-f89d-4c60-a1c2-056f234cd1e6",
   "metadata": {},
   "outputs": [
    {
     "name": "stdout",
     "output_type": "stream",
     "text": [
      "{'name': 'John', 'age': 25, 'grade': 'A'}\n"
     ]
    }
   ],
   "source": [
    "# Removing a key-value pair\n",
    "del student[\"courses\"]\n",
    "print(student)  # Output: {'name': 'John', 'courses': ['Math', 'CompSci'], 'grade': 'A'}"
   ]
  },
  {
   "cell_type": "code",
   "execution_count": 21,
   "id": "fd1d8abc",
   "metadata": {},
   "outputs": [
    {
     "name": "stdout",
     "output_type": "stream",
     "text": [
      "[(['PHP', 'Java'], ['ML', 'DL']), (['Python', 'Laravel'], ['HTML', 'CSS'])]\n"
     ]
    }
   ],
   "source": [
    "data={\n",
    "    \"group1\":{\n",
    "        \"name\":[\"Junaid\",\"Maryam\"],\n",
    "        \"age\":[6,0.4],\n",
    "        \"subjects\":[[\"PHP\",\"Java\"],\n",
    "                    [\"Python\",\"Laravel\"]]\n",
    "    },\n",
    "    \"group2\":{\n",
    "        \"name\":[\"Ayema\",\"Aiza\"],\n",
    "        \"age\":[7,0.11],\n",
    "        \"subjects\":[[\"ML\",\"DL\"],[\"HTML\",\"CSS\"]]\n",
    "    }\n",
    "}\n",
    "\n",
    "data[\"group1\"]['subjects'][1][0]\n",
    "\n",
    "\n",
    "new_list=zip(data['group1'][\"subjects\"],data['group2'][\"subjects\"])\n",
    "print(list(new_list))"
   ]
  },
  {
   "cell_type": "markdown",
   "id": "7b630845-e580-45fb-b71b-53670e5a3302",
   "metadata": {},
   "source": [
    "# Sets\n",
    "\n",
    "**A set is an unordered collection of unique items.**\n",
    "\n"
   ]
  },
  {
   "cell_type": "code",
   "execution_count": 41,
   "id": "57d30d8f-def6-420a-be30-1ac009fd4d9d",
   "metadata": {},
   "outputs": [
    {
     "data": {
      "text/plain": [
       "{'apple', 'banana', 'cherry'}"
      ]
     },
     "execution_count": 41,
     "metadata": {},
     "output_type": "execute_result"
    }
   ],
   "source": [
    "# Example of a set\n",
    "fruits_set = {\"apple\", \"apple\", \"cherry\",\"banana\"}\n",
    "type(fruits_set)  \n",
    "fruits_set# Output: {'apple', 'banana', 'cherry'}"
   ]
  },
  {
   "cell_type": "code",
   "execution_count": null,
   "id": "04744209-9e54-4d96-81ba-233cb06ecf76",
   "metadata": {},
   "outputs": [
    {
     "name": "stdout",
     "output_type": "stream",
     "text": [
      "{'cherry', 'banana', 'apple', 'orange'}\n"
     ]
    }
   ],
   "source": [
    "# Adding an element to the set\n",
    "fruits_set.add(\"orange\")\n",
    "print(fruits_set)  # Output: {'apple', 'banana', 'cherry', 'orange'}\n"
   ]
  },
  {
   "cell_type": "code",
   "execution_count": null,
   "id": "408bac9e-7fab-4cab-b82c-f6d844167a7b",
   "metadata": {},
   "outputs": [
    {
     "name": "stdout",
     "output_type": "stream",
     "text": [
      "{'cherry', 'apple', 'orange'}\n"
     ]
    }
   ],
   "source": [
    "# Removing an element from the set\n",
    "fruits_set.remove(\"banana\")\n",
    "print(fruits_set)  # Output: {'apple', 'cherry', 'orange'}"
   ]
  },
  {
   "cell_type": "code",
   "execution_count": null,
   "id": "cb213221-fd30-4863-920d-7e31c0b05a69",
   "metadata": {},
   "outputs": [
    {
     "name": "stdout",
     "output_type": "stream",
     "text": [
      "True\n"
     ]
    }
   ],
   "source": [
    "# Checking membership in a set\n",
    "print(\"apple\" in fruits_set)  # Output: True"
   ]
  },
  {
   "cell_type": "markdown",
   "id": "bd0492e4",
   "metadata": {},
   "source": [
    "# Tuples\n",
    "\n",
    "**tuples are immutable, meaning their elements cannot be modified, added, or removed after creation.**"
   ]
  },
  {
   "cell_type": "code",
   "execution_count": null,
   "id": "c81e6b32",
   "metadata": {},
   "outputs": [
    {
     "data": {
      "text/plain": [
       "(1, 2, 3, 'hello')"
      ]
     },
     "execution_count": 13,
     "metadata": {},
     "output_type": "execute_result"
    }
   ],
   "source": [
    "my_tuple = (1, 2, 3, 'hello')\n",
    "my_tuple"
   ]
  },
  {
   "cell_type": "code",
   "execution_count": null,
   "id": "3450c3b4",
   "metadata": {},
   "outputs": [
    {
     "ename": "AttributeError",
     "evalue": "'tuple' object has no attribute 'add'",
     "output_type": "error",
     "traceback": [
      "\u001b[1;31m---------------------------------------------------------------------------\u001b[0m",
      "\u001b[1;31mAttributeError\u001b[0m                            Traceback (most recent call last)",
      "Cell \u001b[1;32mIn[14], line 2\u001b[0m\n\u001b[0;32m      1\u001b[0m \u001b[38;5;66;03m# adding to a tuple\u001b[39;00m\n\u001b[1;32m----> 2\u001b[0m \u001b[43mmy_tuple\u001b[49m\u001b[38;5;241;43m.\u001b[39;49m\u001b[43madd\u001b[49m(\u001b[38;5;124m\"\u001b[39m\u001b[38;5;124mApple\u001b[39m\u001b[38;5;124m\"\u001b[39m)\n\u001b[0;32m      3\u001b[0m my_tuple\n",
      "\u001b[1;31mAttributeError\u001b[0m: 'tuple' object has no attribute 'add'"
     ]
    }
   ],
   "source": [
    "# adding to a tuple\n",
    "my_tuple.add(\"Apple\")\n",
    "my_tuple"
   ]
  },
  {
   "cell_type": "markdown",
   "id": "748a76ba",
   "metadata": {},
   "source": [
    "**Note that we get an error while trying to add to a tuple**\n",
    "\n",
    "**The same goes for removing**"
   ]
  },
  {
   "cell_type": "code",
   "execution_count": null,
   "id": "179e9fdf",
   "metadata": {},
   "outputs": [
    {
     "ename": "AttributeError",
     "evalue": "'tuple' object has no attribute 'remove'",
     "output_type": "error",
     "traceback": [
      "\u001b[1;31m---------------------------------------------------------------------------\u001b[0m",
      "\u001b[1;31mAttributeError\u001b[0m                            Traceback (most recent call last)",
      "Cell \u001b[1;32mIn[15], line 1\u001b[0m\n\u001b[1;32m----> 1\u001b[0m \u001b[43mmy_tuple\u001b[49m\u001b[38;5;241;43m.\u001b[39;49m\u001b[43mremove\u001b[49m(\u001b[38;5;124m'\u001b[39m\u001b[38;5;124mhello\u001b[39m\u001b[38;5;124m'\u001b[39m)\n\u001b[0;32m      2\u001b[0m my_tuple\n",
      "\u001b[1;31mAttributeError\u001b[0m: 'tuple' object has no attribute 'remove'"
     ]
    }
   ],
   "source": [
    "my_tuple.remove('hello')\n",
    "my_tuple"
   ]
  }
 ],
 "metadata": {
  "kernelspec": {
   "display_name": "Python 3 (ipykernel)",
   "language": "python",
   "name": "python3"
  },
  "language_info": {
   "codemirror_mode": {
    "name": "ipython",
    "version": 3
   },
   "file_extension": ".py",
   "mimetype": "text/x-python",
   "name": "python",
   "nbconvert_exporter": "python",
   "pygments_lexer": "ipython3",
   "version": "3.9.13"
  }
 },
 "nbformat": 4,
 "nbformat_minor": 5
}
