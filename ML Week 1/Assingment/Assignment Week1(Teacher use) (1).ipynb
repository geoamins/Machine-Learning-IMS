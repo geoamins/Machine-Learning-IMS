{
 "cells": [
  {
   "cell_type": "markdown",
   "id": "1d0a3f1c-4813-4679-bfe2-e22d83114277",
   "metadata": {},
   "source": [
    "## Assignment: Checking Even or Odd Numbers in an Array\n",
    "Objective\n",
    "Create a Python script to determine if each element in an array is even or odd.\n",
    "\n",
    "Instructions\n",
    "Define the Array:\n",
    "\n",
    "Create an array named array with 10 elements of your choice.\n",
    "Loop Through the Array:\n",
    "\n",
    "Use a for loop to iterate through each element in the array.\n",
    "Check Even or Odd:\n",
    "\n",
    "Use an if statement to check if the number is even (num % 2 == 0).\n",
    "If the condition is true, print that the number is even.\n",
    "If the condition is false, print that the number is odd."
   ]
  },
  {
   "cell_type": "code",
   "execution_count": 2,
   "id": "728bee8c-5ba9-4562-8fe8-d837c72f9c4e",
   "metadata": {},
   "outputs": [
    {
     "name": "stdout",
     "output_type": "stream",
     "text": [
      "12 is even\n",
      "7 is odd\n",
      "5 is odd\n",
      "16 is even\n",
      "8 is even\n",
      "9 is odd\n",
      "11 is odd\n",
      "3 is odd\n",
      "20 is even\n",
      "14 is even\n"
     ]
    }
   ],
   "source": [
    "# Define an array with 10 elements\n",
    "array = [12, 7, 5, 16, 8, 9, 11, 3, 20, 14]\n",
    "\n",
    "# Loop through each element in the array\n",
    "for num in array:\n",
    "    # Check if the number is even or odd\n",
    "    if num % 2 == 0:\n",
    "        print(f\"{num} is even\")\n",
    "    else:\n",
    "        print(f\"{num} is odd\")\n"
   ]
  },
  {
   "cell_type": "markdown",
   "id": "66546944",
   "metadata": {},
   "source": [
    "# Assignment 2: Creating a Function\n",
    "\n",
    "You will create a Python function named `process_scores` that takes a list of student scores as an argument and returns a dictionary with the following information:\n",
    "- Average score\n",
    "- Highest score\n",
    "- Lowest score\n",
    "- A list of letter grades for each student score based on the average score\n",
    "\n",
    "### Steps to Complete the Assignment:\n",
    "\n",
    "1. **Define the Function**:\n",
    "   Define a function named `process_scores` that takes a list of integers (student scores) as its parameter.\n",
    "\n",
    "2. **Calculate the Average Score**:\n",
    "   Inside the function, calculate the average score of the students.\n",
    "\n",
    "3. **Find the Highest and Lowest Scores**:\n",
    "   Determine the highest and lowest scores in the list.\n",
    "\n",
    "4. **Assign Letter Grades**:\n",
    "   Based on the average score, assign letter grades to each student using the following criteria:\n",
    "   \n",
    "   - A: score >= 90\n",
    "   - B: 80 <= score < 90\n",
    "   - C: 70 <= score < 80\n",
    "   - D: 60 <= score < 70\n",
    "   - F: score < 60   \n",
    "   (Hint: You will need to implement a loop)\n",
    "\n",
    "\n",
    "\n",
    "5. **Return a Dictionary**:\n",
    "   Return a dictionary containing the average score, highest score, lowest score, and the list of letter grades.\n",
    "\n",
    "6. **Test the Function**:\n",
    "   Write a test case to verify that your function works as expected."
   ]
  },
  {
   "cell_type": "code",
   "execution_count": 3,
   "id": "8d2a0549",
   "metadata": {},
   "outputs": [
    {
     "name": "stdout",
     "output_type": "stream",
     "text": [
      "{'average_score': 82.71428571428571, 'highest_score': 99, 'lowest_score': 64, 'grades': ['B', 'A', 'C', 'D', 'A', 'C', 'B']}\n"
     ]
    }
   ],
   "source": [
    "def process_scores(scores):\n",
    "    # Step 2: Calculate the average score\n",
    "    average_score = sum(scores) / len(scores)\n",
    "\n",
    "    # Step 3: Find the highest and lowest scores\n",
    "    highest_score = max(scores)\n",
    "    lowest_score = min(scores)\n",
    "\n",
    "    # Step 4: Assign letter grades\n",
    "    grades = []\n",
    "    for score in scores:\n",
    "        if score >= 90:\n",
    "            grades.append('A')\n",
    "        elif score >= 80:\n",
    "            grades.append('B')\n",
    "        elif score >= 70:\n",
    "            grades.append('C')\n",
    "        elif score >= 60:\n",
    "            grades.append('D')\n",
    "        else:\n",
    "            grades.append('F')\n",
    "\n",
    "    # Step 5: Return a dictionary\n",
    "    return {\n",
    "        \"average_score\": average_score,\n",
    "        \"highest_score\": highest_score,\n",
    "        \"lowest_score\": lowest_score,\n",
    "        \"grades\": grades\n",
    "    }\n",
    "\n",
    "# Step 6: Test the function\n",
    "test_scores = [85, 92, 78, 64, 99, 73, 88]\n",
    "result = process_scores(test_scores)\n",
    "print(result)\n"
   ]
  }
 ],
 "metadata": {
  "kernelspec": {
   "display_name": "Python 3 (ipykernel)",
   "language": "python",
   "name": "python3"
  },
  "language_info": {
   "codemirror_mode": {
    "name": "ipython",
    "version": 3
   },
   "file_extension": ".py",
   "mimetype": "text/x-python",
   "name": "python",
   "nbconvert_exporter": "python",
   "pygments_lexer": "ipython3",
   "version": "3.10.9"
  }
 },
 "nbformat": 4,
 "nbformat_minor": 5
}
