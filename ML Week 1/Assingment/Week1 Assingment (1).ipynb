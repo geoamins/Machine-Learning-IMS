{
 "cells": [
  {
   "cell_type": "markdown",
   "id": "3eb1dd04-2ef0-4209-8f42-9c9f048a841a",
   "metadata": {},
   "source": [
    "## Assignment: Checking Even or Odd Numbers in an Array\n",
    "Objective\n",
    "Create a Python script to determine if each element in an array is even or odd.\n",
    "\n",
    "Instructions\n",
    "Define the Array:\n",
    "\n",
    "Create an array named array with 10 elements of your choice.\n",
    "Loop Through the Array:\n",
    "\n",
    "Use a for loop to iterate through each element in the array.\n",
    "Check Even or Odd:\n",
    "\n",
    "Use an if statement to check if the number is even (num % 2 == 0).\n",
    "If the condition is true, print that the number is even.\n",
    "If the condition is false, print that the number is odd."
   ]
  },
  {
   "cell_type": "markdown",
   "id": "0127ce0d",
   "metadata": {},
   "source": [
    "# Assignment 2: Creating a Function\n",
    "\n",
    "You will create a Python function named `process_scores` that takes a list of student scores as an argument and returns a dictionary with the following information:\n",
    "- Average score\n",
    "- Highest score\n",
    "- Lowest score\n",
    "- A list of letter grades for each student score based on the average score\n",
    "\n",
    "### Steps to Complete the Assignment:\n",
    "\n",
    "1. **Define the Function**:\n",
    "   Define a function named `process_scores` that takes a list of integers (student scores) as its parameter.\n",
    "\n",
    "2. **Calculate the Average Score**:\n",
    "   Inside the function, calculate the average score of the students.\n",
    "\n",
    "3. **Find the Highest and Lowest Scores**:\n",
    "   Determine the highest and lowest scores in the list.\n",
    "\n",
    "4. **Assign Letter Grades**:\n",
    "   Based on the average score, assign letter grades to each student using the following criteria:\n",
    "   \n",
    "   - A: score >= 90\n",
    "   - B: 80 <= score < 90\n",
    "   - C: 70 <= score < 80\n",
    "   - D: 60 <= score < 70\n",
    "   - F: score < 60   \n",
    "   (Hint: You will need to implement a loop)\n",
    "\n",
    "\n",
    "\n",
    "5. **Return a Dictionary**:\n",
    "   Return a dictionary containing the average score, highest score, lowest score, and the list of letter grades.\n",
    "\n",
    "6. **Test the Function**:\n",
    "   Write a test case to verify that your function works as expected."
   ]
  }
 ],
 "metadata": {
  "kernelspec": {
   "display_name": "Python 3 (ipykernel)",
   "language": "python",
   "name": "python3"
  },
  "language_info": {
   "codemirror_mode": {
    "name": "ipython",
    "version": 3
   },
   "file_extension": ".py",
   "mimetype": "text/x-python",
   "name": "python",
   "nbconvert_exporter": "python",
   "pygments_lexer": "ipython3",
   "version": "3.10.9"
  }
 },
 "nbformat": 4,
 "nbformat_minor": 5
}
