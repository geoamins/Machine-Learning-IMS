{
 "cells": [
  {
   "cell_type": "markdown",
   "id": "f742b74c",
   "metadata": {},
   "source": [
    "# Loops"
   ]
  },
  {
   "cell_type": "markdown",
   "id": "355cbb2e",
   "metadata": {},
   "source": [
    "### First understand the range function\n",
    "#### single argument:\n",
    "**range(j)**  output: 0,1,2,3...., j-1 \n",
    "\n",
    "for j in range(5):\n",
    "    print(j)        output: 0,1,2,3,4\n",
    "\n",
    "#### two arguments:\n",
    "**range(i, j)**  output: i, i+1, i+2,...., j-1\n",
    "\n",
    "for j in range(2, 5):\n",
    "    print(j)        output: 2,3,4\n",
    "\n",
    "#### three arguments:\n",
    "\n",
    "**range(i, j, k)**  output: i, i+k, i+2k,...., j-1\n",
    "for j in range(2, 10, 2):\n",
    "    print(j)        output: 2,4,6,8"
   ]
  },
  {
   "cell_type": "code",
   "execution_count": 4,
   "id": "e7d04ba6",
   "metadata": {},
   "outputs": [
    {
     "name": "stdout",
     "output_type": "stream",
     "text": [
      "0\n",
      "1\n",
      "2\n",
      "3\n",
      "4\n"
     ]
    }
   ],
   "source": [
    "for i in range(5):\n",
    "    print(i)\n"
   ]
  },
  {
   "cell_type": "code",
   "execution_count": 15,
   "id": "644ad462",
   "metadata": {},
   "outputs": [
    {
     "ename": "TypeError",
     "evalue": "'int' object is not iterable",
     "output_type": "error",
     "traceback": [
      "\u001b[1;31m---------------------------------------------------------------------------\u001b[0m",
      "\u001b[1;31mTypeError\u001b[0m                                 Traceback (most recent call last)",
      "Cell \u001b[1;32mIn[15], line 1\u001b[0m\n\u001b[1;32m----> 1\u001b[0m \u001b[38;5;28;01mfor\u001b[39;00m i \u001b[38;5;129;01min\u001b[39;00m \u001b[38;5;241m10\u001b[39m:\n\u001b[0;32m      2\u001b[0m     \u001b[38;5;28mprint\u001b[39m(i)\n",
      "\u001b[1;31mTypeError\u001b[0m: 'int' object is not iterable"
     ]
    }
   ],
   "source": [
    "for i in 10:\n",
    "    print(i)"
   ]
  },
  {
   "cell_type": "code",
   "execution_count": 6,
   "id": "cf59201e",
   "metadata": {},
   "outputs": [
    {
     "name": "stdout",
     "output_type": "stream",
     "text": [
      "10\n",
      "11\n",
      "12\n",
      "13\n",
      "14\n",
      "15\n",
      "16\n",
      "17\n",
      "18\n",
      "19\n",
      "20\n",
      "21\n",
      "22\n",
      "23\n",
      "24\n",
      "25\n",
      "26\n",
      "27\n",
      "28\n",
      "29\n",
      "30\n",
      "31\n",
      "32\n",
      "33\n",
      "34\n",
      "35\n",
      "36\n",
      "37\n",
      "38\n",
      "39\n",
      "40\n",
      "41\n",
      "42\n",
      "43\n",
      "44\n",
      "45\n",
      "46\n",
      "47\n",
      "48\n",
      "49\n",
      "50\n",
      "51\n",
      "52\n",
      "53\n",
      "54\n",
      "55\n",
      "56\n",
      "57\n",
      "58\n",
      "59\n",
      "60\n",
      "61\n",
      "62\n",
      "63\n",
      "64\n",
      "65\n",
      "66\n",
      "67\n",
      "68\n",
      "69\n",
      "70\n",
      "71\n",
      "72\n",
      "73\n",
      "74\n",
      "75\n",
      "76\n",
      "77\n",
      "78\n",
      "79\n",
      "80\n",
      "81\n",
      "82\n",
      "83\n",
      "84\n",
      "85\n",
      "86\n",
      "87\n",
      "88\n",
      "89\n",
      "90\n",
      "91\n",
      "92\n",
      "93\n",
      "94\n",
      "95\n",
      "96\n",
      "97\n",
      "98\n",
      "99\n"
     ]
    }
   ],
   "source": [
    "for i in range(10,100):  #range(start, end)\n",
    "    print(i)"
   ]
  },
  {
   "cell_type": "code",
   "execution_count": 7,
   "id": "7e176e03",
   "metadata": {},
   "outputs": [
    {
     "name": "stdout",
     "output_type": "stream",
     "text": [
      "2\n",
      "4\n",
      "6\n",
      "8\n"
     ]
    }
   ],
   "source": [
    "for i in range(2,10,2):   # range(start, end, step)\n",
    "    print(i)"
   ]
  },
  {
   "cell_type": "code",
   "execution_count": 7,
   "id": "57b4dd1e",
   "metadata": {},
   "outputs": [
    {
     "name": "stdout",
     "output_type": "stream",
     "text": [
      "1\n",
      "3\n",
      "5\n",
      "7\n",
      "9\n"
     ]
    }
   ],
   "source": [
    "for i in range(1,10,2):\n",
    "    print(i)"
   ]
  },
  {
   "cell_type": "markdown",
   "id": "b35fc317",
   "metadata": {},
   "source": [
    "**Loops in Python are used to repeat a block of code multiple times.**"
   ]
  },
  {
   "cell_type": "markdown",
   "id": "65044d78",
   "metadata": {},
   "source": [
    "## \"For\" loop (Count controlled loop)"
   ]
  },
  {
   "cell_type": "markdown",
   "id": "5a981534",
   "metadata": {},
   "source": [
    "**A \"for\" loop is used to iterate over a sequence (like a list, tuple, or string) and execute a block of code for each item in that sequence.**"
   ]
  },
  {
   "cell_type": "code",
   "execution_count": 1,
   "id": "3be6cadb",
   "metadata": {},
   "outputs": [
    {
     "name": "stdout",
     "output_type": "stream",
     "text": [
      "1\n",
      "2\n",
      "3\n",
      "4\n",
      "5\n"
     ]
    }
   ],
   "source": [
    "for number in range(1, 6):    #This prints numbers up till 5\n",
    "    print(number)"
   ]
  },
  {
   "cell_type": "code",
   "execution_count": 11,
   "id": "55f8e81c",
   "metadata": {},
   "outputs": [
    {
     "name": "stdout",
     "output_type": "stream",
     "text": [
      "1\n",
      "2\n",
      "3\n",
      "1.5\n",
      "2.5\n",
      "3.5\n",
      "A\n",
      "B\n",
      "C\n",
      "True\n",
      "False\n"
     ]
    }
   ],
   "source": [
    "a= [1,2,3,1.5,2.5,3.5,'A','B','C',True,False]\n",
    "for i in a:\n",
    "    print (i)"
   ]
  },
  {
   "cell_type": "markdown",
   "id": "15f3576a",
   "metadata": {},
   "source": [
    "**Note that the last number is not included '6'**"
   ]
  },
  {
   "cell_type": "code",
   "execution_count": 14,
   "id": "f8a63fb5",
   "metadata": {},
   "outputs": [
    {
     "name": "stdout",
     "output_type": "stream",
     "text": [
      "0 0 0\n",
      "0 0 1\n",
      "0 0 2\n",
      "0 1 0\n",
      "0 1 1\n",
      "0 1 2\n",
      "1 0 0\n",
      "1 0 1\n",
      "1 0 2\n",
      "1 1 0\n",
      "1 1 1\n",
      "1 1 2\n",
      "2 0 0\n",
      "2 0 1\n",
      "2 0 2\n",
      "2 1 0\n",
      "2 1 1\n",
      "2 1 2\n"
     ]
    }
   ],
   "source": [
    "for i in range(3):\n",
    "    for j in range(2):\n",
    "        for k in range(3):\n",
    "            print(i,j,k)"
   ]
  },
  {
   "cell_type": "markdown",
   "id": "6a23ab67",
   "metadata": {},
   "source": [
    "## While Loop (Condition controlled loop)"
   ]
  },
  {
   "cell_type": "markdown",
   "id": "e51a59ce",
   "metadata": {},
   "source": [
    "**A \"while\" loop continues to execute a block of code as long as a specified condition is true.**"
   ]
  },
  {
   "cell_type": "code",
   "execution_count": 17,
   "id": "4e7a135c",
   "metadata": {},
   "outputs": [
    {
     "name": "stdout",
     "output_type": "stream",
     "text": [
      "6\n",
      "7\n",
      "8\n",
      "9\n",
      "10\n"
     ]
    }
   ],
   "source": [
    "            # Keep adding till the \"number\" variable reaches 5.\n",
    "number = 6  # value initialization\n",
    "\n",
    "while number <= 10:  # \"<=\" Means Less than or equal to,  check the condition\n",
    "    print(number)\n",
    "    number = number+1   # increment by one"
   ]
  },
  {
   "cell_type": "code",
   "execution_count": 25,
   "id": "84562369",
   "metadata": {},
   "outputs": [
    {
     "name": "stdout",
     "output_type": "stream",
     "text": [
      "1 2\n",
      "1 3\n",
      "2 2\n",
      "2 3\n"
     ]
    }
   ],
   "source": [
    "a=1\n",
    "b=2\n",
    "while a<=2:\n",
    "    while b<=3:\n",
    "        print(a,b)\n",
    "        b+=1\n",
    "    b=2\n",
    "    a+=1"
   ]
  },
  {
   "cell_type": "code",
   "execution_count": 28,
   "id": "99cb978e",
   "metadata": {},
   "outputs": [
    {
     "name": "stdout",
     "output_type": "stream",
     "text": [
      "1 2 3 4 5 6 7 8 9 10 "
     ]
    }
   ],
   "source": [
    "a=1\n",
    "while a<=10:\n",
    "    print(a, end=\" \")\n",
    "    a=a+1"
   ]
  }
 ],
 "metadata": {
  "kernelspec": {
   "display_name": "Python 3 (ipykernel)",
   "language": "python",
   "name": "python3"
  },
  "language_info": {
   "codemirror_mode": {
    "name": "ipython",
    "version": 3
   },
   "file_extension": ".py",
   "mimetype": "text/x-python",
   "name": "python",
   "nbconvert_exporter": "python",
   "pygments_lexer": "ipython3",
   "version": "3.9.13"
  }
 },
 "nbformat": 4,
 "nbformat_minor": 5
}
