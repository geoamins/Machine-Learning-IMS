{
 "cells": [
  {
   "cell_type": "markdown",
   "metadata": {},
   "source": [
    "This code demonstrates each activation function on some sample inputs, allowing you to show how different activations affect the input values.\n",
    "\n"
   ]
  },
  {
   "cell_type": "code",
   "execution_count": 4,
   "metadata": {},
   "outputs": [
    {
     "name": "stdout",
     "output_type": "stream",
     "text": [
      "Linear:\n",
      " [[ 3.  5. -1.]\n",
      " [-1. -3.  1.]]\n",
      "Sigmoid:\n",
      " [[0.73105858 0.88079708 0.26894142]\n",
      " [0.26894142 0.11920292 0.5       ]]\n",
      "Tanh:\n",
      " [[ 0.76159416  0.96402758 -0.76159416]\n",
      " [-0.76159416 -0.96402758  0.        ]]\n",
      "ReLU:\n",
      " [[1 2 0]\n",
      " [0 0 0]]\n",
      "Leaky ReLU:\n",
      " [[ 1.    2.   -0.01]\n",
      " [-0.01 -0.02  0.  ]]\n",
      "Softmax:\n",
      " [[0.25949646 0.70538451 0.03511903]\n",
      " [0.24472847 0.09003057 0.66524096]]\n"
     ]
    }
   ],
   "source": [
    "import numpy as np\n",
    "\n",
    "class ActivationFunctions:\n",
    "    @staticmethod\n",
    "    def linear_activation(x, scale=1.0, bias=0.0):\n",
    "        # x (float or np.array): Input value or array of values.\n",
    "        # scale (float): Scaling factor for the input. Defaults to 1.0.\n",
    "        # bias (float): Bias term added to the input. Defaults to 0.0.\n",
    "        return scale * x + bias\n",
    "    \n",
    "    @staticmethod\n",
    "    def sigmoid(x):\n",
    "        return 1 / (1 + np.exp(-x))\n",
    "    \n",
    "    @staticmethod\n",
    "    def tanh(x):\n",
    "        return np.tanh(x)\n",
    "    \n",
    "    @staticmethod\n",
    "    def relu(x):\n",
    "        return np.maximum(0, x)\n",
    "    \n",
    "    @staticmethod\n",
    "    def leaky_relu(x, alpha=0.01):\n",
    "        return np.where(x > 0, x, x * alpha)\n",
    "    \n",
    "    @staticmethod\n",
    "    def softmax(x):\n",
    "        exp_values = np.exp(x - np.max(x, axis=1, keepdims=True))  # Stability trick\n",
    "        return exp_values / np.sum(exp_values, axis=1, keepdims=True)\n",
    "\n",
    "# Example usage:\n",
    "inputs = np.array([[1, 2, -1], [-1, -2, 0]])\n",
    "activation = ActivationFunctions()\n",
    "\n",
    "print(\"Linear:\\n\", activation.linear_activation(inputs, scale=2.0, bias=1.0))\n",
    "print(\"Sigmoid:\\n\", activation.sigmoid(inputs))\n",
    "print(\"Tanh:\\n\", activation.tanh(inputs))\n",
    "print(\"ReLU:\\n\", activation.relu(inputs))\n",
    "print(\"Leaky ReLU:\\n\", activation.leaky_relu(inputs))\n",
    "print(\"Softmax:\\n\", activation.softmax(inputs))\n"
   ]
  }
 ],
 "metadata": {
  "kernelspec": {
   "display_name": "base",
   "language": "python",
   "name": "python3"
  },
  "language_info": {
   "codemirror_mode": {
    "name": "ipython",
    "version": 3
   },
   "file_extension": ".py",
   "mimetype": "text/x-python",
   "name": "python",
   "nbconvert_exporter": "python",
   "pygments_lexer": "ipython3",
   "version": "3.9.13"
  }
 },
 "nbformat": 4,
 "nbformat_minor": 2
}
