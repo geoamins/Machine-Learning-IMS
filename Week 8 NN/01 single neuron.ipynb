{
 "cells": [
  {
   "cell_type": "markdown",
   "metadata": {},
   "source": [
    "#### A single Neuron\n",
    "Consider there are three inputs to this target single neuron. \n",
    "our network will have weights initialized randomly, and biases initialized as zero to start.\n"
   ]
  },
  {
   "cell_type": "code",
   "execution_count": 2,
   "metadata": {},
   "outputs": [],
   "source": [
    "inputs = [ 1, 2, 3 ]  # the data points\n",
    "weights = [0.2, 0.8, -0.5]  # Weights are the parameters that we'll tune and change inside the model during the training phase.\n",
    "bias = 2 # the bias parameter is random value, also tunable during the training phase, one bias value per neuron.\n"
   ]
  },
  {
   "cell_type": "code",
   "execution_count": 3,
   "metadata": {},
   "outputs": [
    {
     "name": "stdout",
     "output_type": "stream",
     "text": [
      "[2.3]\n"
     ]
    }
   ],
   "source": [
    "output = [inputs[0] * weights[0] +\n",
    "          inputs[1] * weights[1] +\n",
    "          inputs[2] * weights[2] + bias]  # the output of the neuron\n",
    "print(output)"
   ]
  },
  {
   "cell_type": "markdown",
   "metadata": {},
   "source": [
    "#### A single Neuron with NumPy"
   ]
  },
  {
   "cell_type": "code",
   "execution_count": 4,
   "metadata": {},
   "outputs": [],
   "source": [
    "import numpy as np\n",
    "\n",
    "inputs = np.array([1, 2, 3])\n",
    "weights = np.array([0.2, 0.8, -0.5])\n",
    "bias = 2"
   ]
  },
  {
   "cell_type": "code",
   "execution_count": 5,
   "metadata": {},
   "outputs": [
    {
     "name": "stdout",
     "output_type": "stream",
     "text": [
      "2.3\n"
     ]
    }
   ],
   "source": [
    "outputs=np.dot(weights, inputs) + bias\n",
    "print(outputs)"
   ]
  },
  {
   "cell_type": "markdown",
   "metadata": {},
   "source": [
    "#### A single neuron with Keras"
   ]
  },
  {
   "cell_type": "code",
   "execution_count": 9,
   "metadata": {},
   "outputs": [],
   "source": [
    "from tensorflow import keras\n",
    "from tensorflow.keras import layers"
   ]
  },
  {
   "cell_type": "code",
   "execution_count": 11,
   "metadata": {},
   "outputs": [
    {
     "name": "stdout",
     "output_type": "stream",
     "text": [
      "1/1 [==============================] - 0s 158ms/step\n",
      "Output: [[-2.8194838]]\n"
     ]
    }
   ],
   "source": [
    "# sequnetial():  This function creates a sequential model where layers are stacked one after the other.\n",
    "# Create a network with 1 linear unit\n",
    "# This adds a Dense layer, which means a fully connected layer. The layer has 1 output (since units=1), and the input shape is specified as [3]\n",
    "model = keras.Sequential([\n",
    "    layers.Dense(units=1, input_shape=[3])\n",
    "])\n",
    "\n",
    "# Compile the model (necessary for training, though we are not training here)\n",
    "model.compile(optimizer='adam', loss='mean_squared_error')\n",
    "\n",
    "# Input data\n",
    "input_data = np.array([[1, 2, 3]])\n",
    "\n",
    "# Make a prediction\n",
    "output = model.predict(input_data)\n",
    "\n",
    "print(\"Output:\", output)"
   ]
  },
  {
   "cell_type": "markdown",
   "metadata": {},
   "source": [
    "#### We can also manully specifying a custom kernel (weights and bias) as random initializer "
   ]
  },
  {
   "cell_type": "code",
   "execution_count": 13,
   "metadata": {},
   "outputs": [
    {
     "name": "stdout",
     "output_type": "stream",
     "text": [
      "WARNING:tensorflow:5 out of the last 5 calls to <function Model.make_predict_function.<locals>.predict_function at 0x0000022A02302310> triggered tf.function retracing. Tracing is expensive and the excessive number of tracings could be due to (1) creating @tf.function repeatedly in a loop, (2) passing tensors with different shapes, (3) passing Python objects instead of tensors. For (1), please define your @tf.function outside of the loop. For (2), @tf.function has reduce_retracing=True option that can avoid unnecessary retracing. For (3), please refer to https://www.tensorflow.org/guide/function#controlling_retracing and https://www.tensorflow.org/api_docs/python/tf/function for  more details.\n",
      "1/1 [==============================] - 0s 43ms/step\n",
      "Output: [[2.3000002]]\n"
     ]
    }
   ],
   "source": [
    "# Define the custom initializers for the weights and bias\n",
    "initial_weights = np.array([[0.2], [0.8], [-0.5]])  # Weight matrix of shape (3, 1)\n",
    "initial_bias = np.array([2])  # Bias initialized to 2\n",
    "\n",
    "# Create the model\n",
    "model = keras.Sequential([\n",
    "    layers.Dense(units=1, input_shape=[3], \n",
    "                 kernel_initializer=keras.initializers.Constant(initial_weights),\n",
    "                 bias_initializer=keras.initializers.Constant(initial_bias))\n",
    "])\n",
    "\n",
    "# Compile the model\n",
    "model.compile(optimizer='adam', loss='mean_squared_error')\n",
    "\n",
    "# Input data\n",
    "input_data = np.array([[1, 2, 3]])\n",
    "\n",
    "# Make a prediction\n",
    "output = model.predict(input_data)\n",
    "\n",
    "print(\"Output:\", output)"
   ]
  },
  {
   "cell_type": "code",
   "execution_count": null,
   "metadata": {},
   "outputs": [],
   "source": []
  }
 ],
 "metadata": {
  "kernelspec": {
   "display_name": "base",
   "language": "python",
   "name": "python3"
  },
  "language_info": {
   "codemirror_mode": {
    "name": "ipython",
    "version": 3
   },
   "file_extension": ".py",
   "mimetype": "text/x-python",
   "name": "python",
   "nbconvert_exporter": "python",
   "pygments_lexer": "ipython3",
   "version": "3.9.13"
  }
 },
 "nbformat": 4,
 "nbformat_minor": 2
}
