{
 "cells": [
  {
   "cell_type": "code",
   "execution_count": 2,
   "metadata": {},
   "outputs": [],
   "source": [
    "import numpy as np\n",
    "from tensorflow.keras.models import Sequential\n",
    "from tensorflow.keras.layers import Dense"
   ]
  },
  {
   "cell_type": "markdown",
   "metadata": {},
   "source": [
    "#### Model Definition:\n",
    "\n",
    "* The Sequential model consists of two Dense layers.\n",
    "* The first layer (Dense(3, input_shape=(4,), activation=None)) has 3 neurons and accepts 4 features as input, with no activation function.\n",
    "* The second layer (Dense(3, activation=None)) also has 3 neurons and no activation function.\n",
    "\n",
    "**Setting Weights and Biases:**\n",
    "* weights1 and biases1 are defined based on the original values, transposed to match Keras’s expectations for the shape of the weight matrix.\n",
    "* set_weights([weights1, biases1]) sets weights and biases for the first layer.\n",
    "* The second layer weights (weights2, biases2) are set similarly.\n",
    "\n",
    "**Model Prediction:**\n",
    "* model.predict(inputs) runs a forward pass through the network, and outputs the results of layer2_outputs, which are the final computed outputs after two linear layers."
   ]
  },
  {
   "cell_type": "code",
   "execution_count": 3,
   "metadata": {},
   "outputs": [],
   "source": [
    "# Define inputs as a numpy array (3 samples with 4 features)\n",
    "inputs = np.array([\n",
    "    [1, 2, 3, 2.5],\n",
    "    [2., 5., -1., 2],\n",
    "    [-1.5, 2.7, 3.3, -0.8]\n",
    "])"
   ]
  },
  {
   "cell_type": "code",
   "execution_count": 4,
   "metadata": {},
   "outputs": [],
   "source": [
    "# Define the model\n",
    "model = Sequential()"
   ]
  },
  {
   "cell_type": "code",
   "execution_count": 5,
   "metadata": {},
   "outputs": [],
   "source": [
    "# Layer 1: 3 neurons, 4 input features, no activation function\n",
    "model.add(Dense(3, input_shape=(4,), activation=None))"
   ]
  },
  {
   "cell_type": "code",
   "execution_count": 6,
   "metadata": {},
   "outputs": [],
   "source": [
    "# Layer 2: 3 neurons, no activation function\n",
    "model.add(Dense(3, activation=None))"
   ]
  },
  {
   "cell_type": "code",
   "execution_count": 7,
   "metadata": {},
   "outputs": [],
   "source": [
    "# Set weights and biases for Layer 1\n",
    "weights1 = np.array([\n",
    "    [0.2, 0.8, -0.5, 1],\n",
    "    [0.5, -0.91, 0.26, -0.5],\n",
    "    [-0.26, -0.27, 0.17, 0.87]\n",
    "]).T\n"
   ]
  },
  {
   "cell_type": "code",
   "execution_count": 8,
   "metadata": {},
   "outputs": [],
   "source": [
    "biases1 = np.array([2, 3, 0.5])\n",
    "model.layers[0].set_weights([weights1, biases1])"
   ]
  },
  {
   "cell_type": "code",
   "execution_count": 9,
   "metadata": {},
   "outputs": [],
   "source": [
    "# Set weights and biases for Layer 2\n",
    "weights2 = np.array([\n",
    "    [0.1, -0.14, 0.5],\n",
    "    [-0.5, 0.12, -0.33],\n",
    "    [-0.44, 0.73, -0.13]\n",
    "]).T"
   ]
  },
  {
   "cell_type": "code",
   "execution_count": 10,
   "metadata": {},
   "outputs": [],
   "source": [
    "biases2 = np.array([-1, 2, -0.5])\n",
    "model.layers[1].set_weights([weights2, biases2])\n"
   ]
  },
  {
   "cell_type": "code",
   "execution_count": 11,
   "metadata": {},
   "outputs": [
    {
     "name": "stdout",
     "output_type": "stream",
     "text": [
      "1/1 [==============================] - 1s 719ms/step\n",
      "Layer 2 Outputs: [[ 0.50310004 -1.0418501  -2.0387502 ]\n",
      " [ 0.2434001  -2.7332     -5.7633004 ]\n",
      " [-0.99314004  1.41254    -0.35654998]]\n"
     ]
    }
   ],
   "source": [
    "# Get the output of the network\n",
    "layer_outputs = model.predict(inputs)\n",
    "print(\"Layer 2 Outputs:\", layer_outputs)"
   ]
  },
  {
   "cell_type": "code",
   "execution_count": null,
   "metadata": {},
   "outputs": [],
   "source": []
  }
 ],
 "metadata": {
  "kernelspec": {
   "display_name": "base",
   "language": "python",
   "name": "python3"
  },
  "language_info": {
   "codemirror_mode": {
    "name": "ipython",
    "version": 3
   },
   "file_extension": ".py",
   "mimetype": "text/x-python",
   "name": "python",
   "nbconvert_exporter": "python",
   "pygments_lexer": "ipython3",
   "version": "3.9.13"
  }
 },
 "nbformat": 4,
 "nbformat_minor": 2
}
