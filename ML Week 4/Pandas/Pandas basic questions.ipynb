{
 "cells": [
  {
   "cell_type": "markdown",
   "id": "7d2118cb",
   "metadata": {},
   "source": [
    "**1. What is Pandas, and why is it popular in data\n",
    "analyst?**"
   ]
  },
  {
   "cell_type": "markdown",
   "id": "c17a21ab",
   "metadata": {},
   "source": [
    "Pandas is a popular open-source data manipulation and analysis library for the Python\n",
    "programming language. It provides data structures for efficiently storing and manipulating\n",
    "large datasets and tools for reading and writing data in various formats. The two primary\n",
    "data structures in Pandas are:\n",
    "1. Series: A one-dimensional labeled array capable of holding any data type.\n",
    "2. DataFrame: A two-dimensional labeled data structure with columns that can be of\n",
    "different types.\n",
    "\n",
    "\n",
    "Pandas is widely used in the field of data analysis for several reasons:"
   ]
  },
  {
   "cell_type": "markdown",
   "id": "f42b8405",
   "metadata": {},
   "source": [
    "1. Ease of Use: Pandas provides a simple and intuitive syntax for data manipulation. Its\n",
    "data structures are designed to be easy to use and interact with.\n",
    "2. Data Cleaning and Transformation: Pandas makes it easy to clean and transform data.\n",
    "It provides functions for handling missing data, reshaping data, merging and joining\n",
    "datasets, and performing various data transformations.\n",
    "3. Data Exploration: Pandas allows data analysts to explore and understand their datasets\n",
    "quickly. Descriptive statistics, data summarization, and various methods for slicing and\n",
    "dicing data are readily available.\n",
    "4. Data Input/Output: Pandas supports reading and writing data in various formats,\n",
    "including CSV, Excel, SQL databases, and more. This makes it easy to work with data\n",
    "from different sources.\n",
    "5. Integration with Other Libraries: Pandas integrates well with other popular data\n",
    "science and machine learning libraries in Python, such as NumPy, Matplotlib, and Scikit\u0002learn. This allows for a seamless workflow when performing more complex analyses.\n",
    "6. Time Series Analysis: Pandas provides excellent support for time series data, including\n",
    "tools for date range generation, frequency conversion, and resampling.\n",
    "7. Community and Documentation: Pandas has a large and active community, which\n",
    "means there is extensive documentation and a wealth of online resources, tutorials, and\n",
    "forums available for users to seek help and guidance.\n",
    "8. Open Source: Being an open-source project, Pandas allows users to contribute to its\n",
    "development and improvement. This collaborative nature has helped Pandas evolve and\n",
    "stay relevant in the rapidly changing landscape of data analysis and data science.\n",
    "In summary, Pandas is popular in data analysis because it simplifies the process of working\n",
    "with structured data, provides powerful tools for data manipulation, and has become a standard tool in the Python ecosystem for data analysis tasks.\n"
   ]
  },
  {
   "cell_type": "markdown",
   "id": "dfb55495",
   "metadata": {},
   "source": [
    "### 2. What is DataFrame in Pandas?"
   ]
  },
  {
   "cell_type": "markdown",
   "id": "9f793619",
   "metadata": {},
   "source": [
    "In Pandas, a DataFrame is a two-dimensional, tabular data structure with labeled axes (rows\n",
    "and columns). It is similar to a spreadsheet or SQL table, where data can be stored in rows\n",
    "and columns. The key features of a DataFrame include:\n",
    "1. Tabular Structure: A DataFrame is a two-dimensional table with rows and columns.\n",
    "Each column can have a different data type, such as integer, float, string, or even\n",
    "custom types.\n",
    "2. Labeled Axes: Both rows and columns of a DataFrame are labeled. This means that\n",
    "each row and each column has a unique label or index associated with it, allowing for\n",
    "easy access and manipulation of data.\n",
    "3. Flexible Size: DataFrames can grow and shrink in size. You can add or remove rows and\n",
    "columns as needed.\n",
    "4. Heterogeneous Data Types: Different columns in a DataFrame can have different data\n",
    "types. For example, one column might contain integers, while another column contains\n",
    "strings.\n",
    "5. Data Alignment: When performing operations on DataFrames, Pandas automatically\n",
    "aligns the data based on labels, making it easy to work with data even if it is not\n",
    "perfectly clean or aligned.\n",
    "6. Missing Data Handling: DataFrames can handle missing data gracefully. Pandas\n",
    "provides methods for detecting, removing, or filling missing values.\n",
    "7. Powerful Operations: DataFrames support a wide range of operations, including\n",
    "arithmetic operations, aggregation, filtering, merging, and reshaping. This makes it a\n",
    "powerful tool for data analysis and manipulation."
   ]
  },
  {
   "cell_type": "code",
   "execution_count": 1,
   "id": "c7433583",
   "metadata": {},
   "outputs": [
    {
     "name": "stdout",
     "output_type": "stream",
     "text": [
      "   Name  Age           City\n",
      "0  John   28       New York\n",
      "1  Jane   24  San Francisco\n",
      "2   Bob   22    Los Angeles\n"
     ]
    }
   ],
   "source": [
    "import pandas as pd\n",
    "# Creating a DataFrame from a dictionary\n",
    "data = {'Name': ['John', 'Jane', 'Bob'],\n",
    " 'Age': [28, 24, 22],\n",
    " 'City': ['New York', 'San Francisco', 'Los Angeles']}\n",
    "df = pd.DataFrame(data)\n",
    "# Displaying the DataFrame\n",
    "print(df)\n"
   ]
  },
  {
   "cell_type": "markdown",
   "id": "04477d06",
   "metadata": {},
   "source": [
    "In this example, each column represents a different attribute (Name, Age, City), and each\n",
    "row represents a different individual. The DataFrame provides a convenient way to work with\n",
    "this tabular data in a structured and labeled format. "
   ]
  },
  {
   "cell_type": "markdown",
   "id": "e3364081",
   "metadata": {},
   "source": [
    "**3. What is diffrence between loc and iloc in\n",
    "pandas?**"
   ]
  },
  {
   "cell_type": "markdown",
   "id": "6d2d83c4",
   "metadata": {},
   "source": [
    "In Pandas, loc and iloc are two different methods used for indexing and selecting data\n",
    "from a DataFrame. They are primarily used for label-based and integer-location-based\n",
    "indexing, respectively. Here's the key difference between loc and iloc :\n",
    "\n",
    "**1. loc (Label-based Indexing):**\n",
    "\n",
    "The loc method is used for selection by label.\n",
    "\n",
    "It allows you to access a group of rows and columns by labels or a boolean array.\n",
    "\n",
    "The syntax is df.loc[row_label, column_label] or df.loc[row_label] for\n",
    "selecting entire rows.\n",
    "\n",
    "The labels used with loc are the actual labels of the index or column names, not\n",
    "the integer position.\n",
    "\n",
    "Inclusive slicing is supported with loc , meaning both the start and stop index are\n",
    "included in the selection."
   ]
  },
  {
   "cell_type": "code",
   "execution_count": 2,
   "id": "75538f1f",
   "metadata": {},
   "outputs": [
    {
     "data": {
      "text/html": [
       "<div>\n",
       "<style scoped>\n",
       "    .dataframe tbody tr th:only-of-type {\n",
       "        vertical-align: middle;\n",
       "    }\n",
       "\n",
       "    .dataframe tbody tr th {\n",
       "        vertical-align: top;\n",
       "    }\n",
       "\n",
       "    .dataframe thead th {\n",
       "        text-align: right;\n",
       "    }\n",
       "</style>\n",
       "<table border=\"1\" class=\"dataframe\">\n",
       "  <thead>\n",
       "    <tr style=\"text-align: right;\">\n",
       "      <th></th>\n",
       "      <th>Name</th>\n",
       "      <th>Age</th>\n",
       "      <th>City</th>\n",
       "    </tr>\n",
       "  </thead>\n",
       "  <tbody>\n",
       "    <tr>\n",
       "      <th>2</th>\n",
       "      <td>Bob</td>\n",
       "      <td>22</td>\n",
       "      <td>Los Angeles</td>\n",
       "    </tr>\n",
       "  </tbody>\n",
       "</table>\n",
       "</div>"
      ],
      "text/plain": [
       "  Name  Age         City\n",
       "2  Bob   22  Los Angeles"
      ]
     },
     "execution_count": 2,
     "metadata": {},
     "output_type": "execute_result"
    }
   ],
   "source": [
    "import pandas as pd\n",
    " # Assuming 'df' is our DataFrame\n",
    "selected_data = df.loc[2:4, 'Name':'City']\n",
    "selected_data\n"
   ]
  },
  {
   "cell_type": "markdown",
   "id": "c90e7e9a",
   "metadata": {},
   "source": [
    "**1. iloc (Integer-location based Indexing):**\n",
    "\n",
    "\n",
    "The iloc method is used for selection by position.\n",
    "\n",
    "It allows you to access a group of rows and columns by integer positions.\n",
    "\n",
    "The syntax is df.iloc[row_index, column_index] or df.iloc[row_index]\n",
    "for selecting entire rows.\n",
    "\n",
    "The indices used with iloc are integer-based, meaning you specify the position\n",
    "of the rows and columns based on their numerical order (0-based indexing).\n",
    "\n",
    "Exclusive slicing is used with iloc , meaning the stop index is not included in the\n",
    "selection.\n"
   ]
  },
  {
   "cell_type": "code",
   "execution_count": 3,
   "id": "5109c833",
   "metadata": {},
   "outputs": [
    {
     "data": {
      "text/html": [
       "<div>\n",
       "<style scoped>\n",
       "    .dataframe tbody tr th:only-of-type {\n",
       "        vertical-align: middle;\n",
       "    }\n",
       "\n",
       "    .dataframe tbody tr th {\n",
       "        vertical-align: top;\n",
       "    }\n",
       "\n",
       "    .dataframe thead th {\n",
       "        text-align: right;\n",
       "    }\n",
       "</style>\n",
       "<table border=\"1\" class=\"dataframe\">\n",
       "  <thead>\n",
       "    <tr style=\"text-align: right;\">\n",
       "      <th></th>\n",
       "      <th>Name</th>\n",
       "      <th>Age</th>\n",
       "      <th>City</th>\n",
       "    </tr>\n",
       "  </thead>\n",
       "  <tbody>\n",
       "    <tr>\n",
       "      <th>2</th>\n",
       "      <td>Bob</td>\n",
       "      <td>22</td>\n",
       "      <td>Los Angeles</td>\n",
       "    </tr>\n",
       "  </tbody>\n",
       "</table>\n",
       "</div>"
      ],
      "text/plain": [
       "  Name  Age         City\n",
       "2  Bob   22  Los Angeles"
      ]
     },
     "execution_count": 3,
     "metadata": {},
     "output_type": "execute_result"
    }
   ],
   "source": [
    "import pandas as pd\n",
    " # Assuming 'df' is our DataFrame\n",
    "selected_data = df.iloc[2:5, 0:3]\n",
    "selected_data\n"
   ]
  },
  {
   "cell_type": "markdown",
   "id": "edb0150a",
   "metadata": {},
   "source": [
    "In summary, if you want to select data based on the labels of rows and columns, you use\n",
    "loc . If you prefer to select data based on the integer positions of rows and columns, you\n",
    "use iloc . The choice between them depends on whether you are working with labeled or\n",
    "integer-based indexing."
   ]
  },
  {
   "cell_type": "markdown",
   "id": "a28fbb3b",
   "metadata": {},
   "source": [
    "### 4. How do you filter rows in a dataframe based on condition?"
   ]
  },
  {
   "cell_type": "markdown",
   "id": "a2406517",
   "metadata": {},
   "source": [
    "To filter rows in a DataFrame based on a condition, you can use boolean indexing. Boolean\n",
    "indexing involves creating a boolean Series that represents the condition you want to apply\n",
    "and then using that boolean Series to filter the rows of the DataFrame. Here's a step-by-step\n",
    "guide:\n",
    "\n",
    "Assuming you have a DataFrame named df, and you want to filter rows based on a\n",
    "condition, let's say a condition on the 'Age' column:"
   ]
  },
  {
   "cell_type": "code",
   "execution_count": 4,
   "id": "ba90b587",
   "metadata": {},
   "outputs": [
    {
     "name": "stdout",
     "output_type": "stream",
     "text": [
      "    Name  Age      City\n",
      "0   John   28  New York\n",
      "3  Alice   30   Chicago\n"
     ]
    }
   ],
   "source": [
    "import pandas as pd\n",
    "# Assuming 'df' is your DataFrame\n",
    "data = {'Name': ['John', 'Jane', 'Bob', 'Alice'],\n",
    " 'Age': [28, 24, 22, 30],\n",
    " 'City': ['New York', 'San Francisco', 'Los Angeles', 'Chicago']}\n",
    "df = pd.DataFrame(data)\n",
    "# Condition for filtering (e.g., selecting rows where Age is greater than 25)\n",
    "condition = df['Age'] > 25\n",
    "# Applying the condition to filter rows\n",
    "filtered_df = df[condition]\n",
    "# Displaying the filtered DataFrame\n",
    "print(filtered_df)"
   ]
  },
  {
   "cell_type": "markdown",
   "id": "95b06c3a",
   "metadata": {},
   "source": [
    "### 5. How do you handle missing values in data with the help of pandas?"
   ]
  },
  {
   "cell_type": "markdown",
   "id": "71ec2bda",
   "metadata": {},
   "source": [
    "Handling missing values is a crucial step in the data cleaning process. Pandas provides several methods for working with missing data in a DataFrame. Here are some common techniques:\n",
    "\n",
    "**1. Detecting Missing Values:**\n",
    "The isnull() method can be used to detect missing values in a DataFrame. It\n",
    "returns a DataFrame of the same shape, where each element is a boolean\n",
    "indicating whether the corresponding element in the original DataFrame is missing.\n",
    "The notnull() method is the opposite of isnull() and returns True for\n",
    "non-missing values.\n"
   ]
  },
  {
   "cell_type": "code",
   "execution_count": 5,
   "id": "dca998bd",
   "metadata": {},
   "outputs": [],
   "source": [
    "# Assuming 'df' is your DataFrame\n",
    "missing_values = df.isnull()"
   ]
  },
  {
   "cell_type": "markdown",
   "id": "3487cfad",
   "metadata": {},
   "source": [
    "**1. Dropping Missing Values:**\n",
    "\n",
    "The dropna() method can be used to remove rows or columns containin missing values.\n",
    "\n",
    "\n",
    "\n",
    "\n",
    ".\n",
    "The thresh parameter can be used to specify a threshold for the number Non-nullull values required to keep a row or column"
   ]
  },
  {
   "cell_type": "code",
   "execution_count": 6,
   "id": "e4b11618",
   "metadata": {},
   "outputs": [],
   "source": [
    "# Drop rows with any missing values\n",
    "df_no_missing_rows = df.dropna()\n",
    "\n",
    "# Drop columns with any missing values\n",
    "df_no_missing_cols = df.dropna(axis=1)\n",
    "\n",
    "# Drop rows with at least 3 non-null values\n",
    "df_thresh = df.dropna(thresh=3)"
   ]
  },
  {
   "cell_type": "markdown",
   "id": "48b4f9ca",
   "metadata": {},
   "source": [
    "**1. Filling Missing Values:**\n",
    "\n",
    "    \n",
    "The fillna() method can be used to fill missing values with a specified constant\n",
    "or using various filling methods like forward fill or backward fill.\n",
    "Commonly, mean or median values are used to fill missing values in numerical\n",
    "columns."
   ]
  },
  {
   "cell_type": "code",
   "execution_count": 7,
   "id": "e01f04f3",
   "metadata": {},
   "outputs": [
    {
     "name": "stderr",
     "output_type": "stream",
     "text": [
      "C:\\Users\\Hamood\\AppData\\Local\\Temp\\ipykernel_4592\\3061817867.py:8: FutureWarning: DataFrame.fillna with 'method' is deprecated and will raise in a future version. Use obj.ffill() or obj.bfill() instead.\n",
      "  df_ffill = df.fillna(method='ffill')\n",
      "C:\\Users\\Hamood\\AppData\\Local\\Temp\\ipykernel_4592\\3061817867.py:11: FutureWarning: DataFrame.fillna with 'method' is deprecated and will raise in a future version. Use obj.ffill() or obj.bfill() instead.\n",
      "  df_bfill = df.fillna(method='bfill')\n"
     ]
    }
   ],
   "source": [
    "# Fill missing values with a constant\n",
    "df_fill_constant = df.fillna(0)\n",
    "\n",
    "# Fill missing values with the mean of the column\n",
    "df_fill_mean = df.fillna(df[\"Age\"].mean())\n",
    "\n",
    "# Forward fill missing values (use the previous value)\n",
    "df_ffill = df.fillna(method='ffill')\n",
    "\n",
    "# Backward fill missing values (use the next value)\n",
    "df_bfill = df.fillna(method='bfill')"
   ]
  },
  {
   "cell_type": "markdown",
   "id": "a44f2001",
   "metadata": {},
   "source": [
    "### 6. Explain the process of merging two dataframe in pandas"
   ]
  },
  {
   "cell_type": "markdown",
   "id": "91994b5b",
   "metadata": {},
   "source": [
    "Merging two DataFrames in Pandas involves combining their rows based on a common\n",
    "column (or index) called the key. This operation is similar to SQL joins. Pandas provides the\n",
    "merge() function to perform various types of joins between two or more DataFrames.\n",
    "\n",
    "    \n",
    "**Step 1:** \n",
    "\n",
    "Import Pandas"
   ]
  },
  {
   "cell_type": "code",
   "execution_count": 8,
   "id": "e8dcde59",
   "metadata": {},
   "outputs": [],
   "source": [
    "import pandas as pd"
   ]
  },
  {
   "cell_type": "markdown",
   "id": "4e27644b",
   "metadata": {},
   "source": [
    "**Step 2:**\n",
    "\n",
    "Create Two DataFrames Assuming you have two DataFrames, df1 and df2, with a\n",
    "common key column:"
   ]
  },
  {
   "cell_type": "code",
   "execution_count": 9,
   "id": "21ba74d3",
   "metadata": {},
   "outputs": [],
   "source": [
    "# Example DataFrames\n",
    "data1 = {'Key': ['A', 'B', 'C'], 'Value1': [1, 2, 3]}\n",
    "data2 = {'Key': ['A', 'B', 'D'], 'Value2': ['X', 'Y', 'Z']}\n",
    "df1 = pd.DataFrame(data1)\n",
    "df2 = pd.DataFrame(data2)"
   ]
  },
  {
   "cell_type": "markdown",
   "id": "203c659c",
   "metadata": {},
   "source": [
    "**Step 3:** \n",
    "\n",
    "Choose the Type of Join Decide on the type of join you want to perform. The\n",
    "common types are:\n",
    "\n",
    "\n",
    "    Inner Join (how='inner'): Keeps only the rows with keys present in both DataFrames.\n",
    "    Outer Join (how='outer'): Keeps all rows from both DataFrames and fills in missing values with NaN where there is no match.\n",
    "    Left Join (how='left'): Keeps all rows from the left DataFrame and fills in missing valueswith NaN where there is no match in the right DataFrame.\n",
    "    Right Join (how='right'): Keeps all rows from the right DataFrame and fills in missingvalues with NaN where there is no match in the left DataFrame."
   ]
  },
  {
   "cell_type": "markdown",
   "id": "8b71dbb5",
   "metadata": {},
   "source": [
    "**Step 4: Merge the DataFrames**"
   ]
  },
  {
   "cell_type": "code",
   "execution_count": 10,
   "id": "67658ece",
   "metadata": {},
   "outputs": [
    {
     "data": {
      "text/html": [
       "<div>\n",
       "<style scoped>\n",
       "    .dataframe tbody tr th:only-of-type {\n",
       "        vertical-align: middle;\n",
       "    }\n",
       "\n",
       "    .dataframe tbody tr th {\n",
       "        vertical-align: top;\n",
       "    }\n",
       "\n",
       "    .dataframe thead th {\n",
       "        text-align: right;\n",
       "    }\n",
       "</style>\n",
       "<table border=\"1\" class=\"dataframe\">\n",
       "  <thead>\n",
       "    <tr style=\"text-align: right;\">\n",
       "      <th></th>\n",
       "      <th>Key</th>\n",
       "      <th>Value1</th>\n",
       "      <th>Value2</th>\n",
       "    </tr>\n",
       "  </thead>\n",
       "  <tbody>\n",
       "    <tr>\n",
       "      <th>0</th>\n",
       "      <td>A</td>\n",
       "      <td>1</td>\n",
       "      <td>X</td>\n",
       "    </tr>\n",
       "    <tr>\n",
       "      <th>1</th>\n",
       "      <td>B</td>\n",
       "      <td>2</td>\n",
       "      <td>Y</td>\n",
       "    </tr>\n",
       "  </tbody>\n",
       "</table>\n",
       "</div>"
      ],
      "text/plain": [
       "  Key  Value1 Value2\n",
       "0   A       1      X\n",
       "1   B       2      Y"
      ]
     },
     "execution_count": 10,
     "metadata": {},
     "output_type": "execute_result"
    }
   ],
   "source": [
    "# Performing the merge (for example, an inner join)\n",
    "merged_df = pd.merge(df1, df2, on='Key', how='inner')\n",
    "merged_df"
   ]
  },
  {
   "cell_type": "markdown",
   "id": "d9144083",
   "metadata": {},
   "source": [
    "In this example, we're performing an inner join based on the 'Key' column. The resulting\n",
    "DataFrame (merged_df) will have columns from both original DataFrames, and rows where\n",
    "the 'Key' values match in both DataFrames"
   ]
  },
  {
   "cell_type": "markdown",
   "id": "e9d4a40d",
   "metadata": {},
   "source": [
    "### 7.What is purpose of the groupby function in pandas?"
   ]
  },
  {
   "cell_type": "markdown",
   "id": "4d7051e3",
   "metadata": {},
   "source": [
    "The groupby function in Pandas is used for grouping data based on some criteria, and it is\n",
    "a powerful and flexible tool for data analysis and manipulation. The primary purpose of\n",
    "groupby is to split the data into groups based on some criteria, apply a function to each\n",
    "group independently, and then combine the results back into a DataFrame."
   ]
  },
  {
   "cell_type": "markdown",
   "id": "e7e336cb",
   "metadata": {},
   "source": [
    "### Purpose of groupby :\n",
    "**1. Data Splitting:**\n",
    "\n",
    "    groupby is used to split the data into groups based on one or more criteria, such as a column's values or a combination of columns.\n",
    "    \n",
    "**2. Operations on Groups:**\n",
    "\n",
    "    After splitting the data into groups, you can perform operations on each group independently. This might include aggregations, transformations, filtering, or other custom operations.\n",
    "    \n",
    "**3. Aggregation:**\n",
    "\n",
    "    One of the most common use cases for groupby is to perform aggregation operations on each group, such as calculating the mean, sum, count, minimum, maximum, etc.\n",
    "    \n",
    "**4. Data Transformation:**\n",
    "\n",
    "    groupby allows you to apply transformations to the groups and create new features or modify existing ones.\n",
    "    \n",
    "**5. Filtering:**\n",
    "\n",
    "    You can use groupby in combination with filtering operations to select specific groups based on certain conditions.\n"
   ]
  },
  {
   "cell_type": "markdown",
   "id": "6d909d2a",
   "metadata": {},
   "source": [
    "### 8.Expalin the difference between Series and DataFrame in Pandas\n",
    "\n",
    "In Pandas, both Series and DataFrame are fundamental data structures, but they serve\n",
    "different purposes and have distinct characteristics."
   ]
  },
  {
   "cell_type": "markdown",
   "id": "5b6937a4",
   "metadata": {},
   "source": [
    "### Series:\n",
    "**1. 1-Dimensional Data Structure:**\n",
    "    \n",
    "    A Series is essentially a one-dimensional labeled array that can hold any data type, such as integers, floats, strings, or even Python objects.\n",
    "\n",
    "**2. Homogeneous Data:**\n",
    "\n",
    "    All elements in a Series must be of the same data type. It is a homogeneous datastructure.\n",
    "\n",
    "**3. Labeled Index:**\n",
    "\n",
    "    Each element in a Series has a label (index), which can be customized or can be the default integer index. This index facilitates easy and efficient data retrieval.\n",
    "\n",
    "**4. Similar to a Column in a DataFrame:**\n",
    "\n",
    "    A Series is similar to a single column in a DataFrame. In fact, you can think of a DataFrame as a collection of Series with the same index.\n",
    "\n",
    "**5. Creation:**\n",
    "\n",
    "    You can create a Series from a list, NumPy array, or dictionary. dictionary."
   ]
  },
  {
   "cell_type": "code",
   "execution_count": 11,
   "id": "af32c4cb",
   "metadata": {},
   "outputs": [
    {
     "data": {
      "text/plain": [
       "a    1\n",
       "b    2\n",
       "c    3\n",
       "d    4\n",
       "dtype: int64"
      ]
     },
     "execution_count": 11,
     "metadata": {},
     "output_type": "execute_result"
    }
   ],
   "source": [
    "import pandas as pd\n",
    "# Creating a Series from a list\n",
    "s = pd.Series([1, 2, 3, 4], index=['a', 'b', 'c', 'd'])\n",
    "s"
   ]
  },
  {
   "cell_type": "markdown",
   "id": "578e539c",
   "metadata": {},
   "source": [
    "### DataFrame:"
   ]
  },
  {
   "cell_type": "markdown",
   "id": "01544d46",
   "metadata": {},
   "source": [
    "**1. 2-Dimensional Data Structure:**\n",
    "\n",
    "    A DataFrame is a two-dimensional tabular data structure where you can store data of different data types. It consists of rows and columns.\n",
    "\n",
    "**2. Heterogeneous Data:**\n",
    "\n",
    "    Different columns in a DataFrame can have different data types, making it a heterogeneous data structure.\n",
    "\n",
    "**3. Labeled Index and Columns:**\n",
    "\n",
    "    Similar to a Series, a DataFrame also has a labeled index for rows, and additionally, it has labeled columns. The column names can be customized.\n",
    "\n",
    "**4. Collection of Series:**\n",
    "\n",
    "    A DataFrame can be thought of as a collection of Series. Each column is a Series, and the columns share the same index.\n",
    "\n",
    "**5. Creation:**\n",
    "\n",
    "    You can create a DataFrame from a dictionary, a list of dictionaries, a NumPy array, or another DataFrame.\n"
   ]
  },
  {
   "cell_type": "code",
   "execution_count": 12,
   "id": "e707ab99",
   "metadata": {
    "scrolled": true
   },
   "outputs": [
    {
     "data": {
      "text/html": [
       "<div>\n",
       "<style scoped>\n",
       "    .dataframe tbody tr th:only-of-type {\n",
       "        vertical-align: middle;\n",
       "    }\n",
       "\n",
       "    .dataframe tbody tr th {\n",
       "        vertical-align: top;\n",
       "    }\n",
       "\n",
       "    .dataframe thead th {\n",
       "        text-align: right;\n",
       "    }\n",
       "</style>\n",
       "<table border=\"1\" class=\"dataframe\">\n",
       "  <thead>\n",
       "    <tr style=\"text-align: right;\">\n",
       "      <th></th>\n",
       "      <th>Name</th>\n",
       "      <th>Age</th>\n",
       "      <th>City</th>\n",
       "    </tr>\n",
       "  </thead>\n",
       "  <tbody>\n",
       "    <tr>\n",
       "      <th>0</th>\n",
       "      <td>John</td>\n",
       "      <td>28</td>\n",
       "      <td>New York</td>\n",
       "    </tr>\n",
       "    <tr>\n",
       "      <th>1</th>\n",
       "      <td>Jane</td>\n",
       "      <td>24</td>\n",
       "      <td>San Francisco</td>\n",
       "    </tr>\n",
       "    <tr>\n",
       "      <th>2</th>\n",
       "      <td>Bob</td>\n",
       "      <td>22</td>\n",
       "      <td>Los Angeles</td>\n",
       "    </tr>\n",
       "  </tbody>\n",
       "</table>\n",
       "</div>"
      ],
      "text/plain": [
       "   Name  Age           City\n",
       "0  John   28       New York\n",
       "1  Jane   24  San Francisco\n",
       "2   Bob   22    Los Angeles"
      ]
     },
     "execution_count": 12,
     "metadata": {},
     "output_type": "execute_result"
    }
   ],
   "source": [
    "import pandas as pd\n",
    "# Creating a DataFrame from a dictionary\n",
    "data = {'Name': ['John', 'Jane', 'Bob'],\n",
    "        'Age': [28, 24, 22],\n",
    "        'City': ['New York', 'San Francisco', 'Los Angeles']}\n",
    "df = pd.DataFrame(data)\n",
    "df\n"
   ]
  },
  {
   "cell_type": "markdown",
   "id": "fa42f75c",
   "metadata": {},
   "source": [
    "In summary, while both Series and DataFrames have labeled indices and support various\n",
    "operations, a Series is a one-dimensional array, and a DataFrame is a two-dimensional table.\n",
    "Series are often used to represent a single column, while DataFrames are used to represent a\n",
    "collection of columns with potentially different data types"
   ]
  },
  {
   "cell_type": "markdown",
   "id": "df90673e",
   "metadata": {},
   "source": [
    "### 9.what is purpose of the apply Function in pandas, and how is it used?"
   ]
  },
  {
   "cell_type": "markdown",
   "id": "c8b92afb",
   "metadata": {},
   "source": [
    "The apply function in Pandas is a powerful tool used for applying a function along the axis\n",
    "of a DataFrame or a Series. It is particularly useful for performing element-wise operations,\n",
    "transformations, or custom functions on the data. The primary purpose of apply is to\n",
    "allow users to apply a function to each element in a DataFrame or Series, row-wise or\n",
    "column-wise."
   ]
  },
  {
   "cell_type": "markdown",
   "id": "d9baa08f",
   "metadata": {},
   "source": [
    "### Purpose of apply:\n",
    "\n",
    "**1. Element-wise Operations:**\n",
    "\n",
    "    Apply allows you to perform element-wise operations on each element in a Series or DataFrame.\n",
    "\n",
    "**2. Custom Functions:**\n",
    "\n",
    "    You can use apply to apply custom functions that you define to each element or row/column of your data.\n",
    "\n",
    "**3. Aggregation:**\n",
    "\n",
    "    When used with DataFrames, apply can be used for column-wise or row-wise aggregation.\n",
    "\n",
    "**4. Function Composition:**\n",
    "\n",
    "    apply is often used in combination with lambda functions or other callable objects, allowing for flexible and concise code.\n"
   ]
  },
  {
   "cell_type": "markdown",
   "id": "31bdddae",
   "metadata": {},
   "source": [
    "## Examples:"
   ]
  },
  {
   "cell_type": "code",
   "execution_count": 13,
   "id": "f6ea7d62",
   "metadata": {},
   "outputs": [
    {
     "data": {
      "text/plain": [
       "0     1\n",
       "1     4\n",
       "2     9\n",
       "3    16\n",
       "dtype: int64"
      ]
     },
     "execution_count": 13,
     "metadata": {},
     "output_type": "execute_result"
    }
   ],
   "source": [
    "\n",
    "#### Example 1: Element-wise Operation on Series\n",
    "import pandas as pd\n",
    "# Creating a Series\n",
    "s = pd.Series([1, 2, 3, 4])\n",
    "\n",
    "# Applying a square function element-wise\n",
    "result_series = s.apply(lambda x: x**2)\n",
    "result_series\n"
   ]
  },
  {
   "cell_type": "code",
   "execution_count": 14,
   "id": "85231dee",
   "metadata": {},
   "outputs": [
    {
     "data": {
      "text/plain": [
       "A     6\n",
       "B    15\n",
       "dtype: int64"
      ]
     },
     "execution_count": 14,
     "metadata": {},
     "output_type": "execute_result"
    }
   ],
   "source": [
    "#### Example 2: Applying a Function to Each Column in a DataFrame\n",
    "import pandas as pd\n",
    "# Creating a DataFrame\n",
    "df = pd.DataFrame({'A': [1, 2, 3], 'B': [4, 5, 6]})\n",
    "# Applying a sum function column-wise\n",
    "result_dataframe = df.apply(sum, axis=0)\n",
    "result_dataframe"
   ]
  },
  {
   "cell_type": "code",
   "execution_count": 15,
   "id": "3b83031c",
   "metadata": {},
   "outputs": [
    {
     "data": {
      "text/plain": [
       "0    5\n",
       "1    7\n",
       "2    9\n",
       "dtype: int64"
      ]
     },
     "execution_count": 15,
     "metadata": {},
     "output_type": "execute_result"
    }
   ],
   "source": [
    "#### Example 3: Applying a Function to Each Row in a DataFrame\n",
    "# Creating a DataFrame\n",
    "df = pd.DataFrame({'A': [1, 2, 3], 'B': [4, 5, 6]})\n",
    "# Applying a sum function row-wise\n",
    "result_dataframe = df.apply(sum, axis=1)\n",
    "result_dataframe"
   ]
  },
  {
   "cell_type": "markdown",
   "id": "c62227c4",
   "metadata": {},
   "source": [
    "In these examples, the apply function is used to perform operations on each element in a\n",
    "Series or each row/column in a DataFrame. The flexibility of apply makes it a versatile tool\n",
    "for various data manipulation tasks in Pandas"
   ]
  },
  {
   "cell_type": "markdown",
   "id": "e9d6b29a",
   "metadata": {},
   "source": [
    "## 10.Explain the concept of Pivot Tables in pandas"
   ]
  },
  {
   "cell_type": "markdown",
   "id": "4fcbac47",
   "metadata": {},
   "source": [
    "In Pandas, a pivot table is a data summarization tool that allows you to reshape and analyze\n",
    "your data by aggregating and restructuring it. Pivot tables provide a way to rearrange,\n",
    "reshape, and aggregate data in a DataFrame to gain insights and perform complex analyses\n",
    "more efficiently. The concept is inspired by Excel's pivot table functionality."
   ]
  },
  {
   "cell_type": "markdown",
   "id": "81130519",
   "metadata": {},
   "source": [
    "### Key Concepts of Pivot Tables:\n",
    "\n",
    "**1. Rows and Columns:**\n",
    "\n",
    "    In a pivot table, you specify which columns of the original DataFrame should become the new index (rows) and which columns should become the new columns.\n",
    "\n",
    "**2. Values:**\n",
    "\n",
    "    You specify which columns of the original DataFrame should be used as values in the new table. These values are then aggregated based on the specified rows and columns.\n",
    "\n",
    "**3. Aggregation Function:**\n",
    "\n",
    "    You can specify an aggregation function to apply to the values. Common aggregation functions include sum, mean, count, max, min, etc.\n",
    "\n",
    "### How to Create a Pivot Table:\n",
    "\n",
    "**df**: The original DataFrame.\n",
    "\n",
    "**values**: The column to aggregate (can be a list if you want to aggregate multiple columns).\n",
    "\n",
    "**index**: The column(s) to become the new index.\n",
    "\n",
    "**columns**: The column(s) to become the new columns.\n",
    "\n",
    "**aggfunc**: The aggregation function to apply to the values."
   ]
  },
  {
   "cell_type": "markdown",
   "id": "525bab88",
   "metadata": {},
   "source": [
    "## Example:"
   ]
  },
  {
   "cell_type": "code",
   "execution_count": 16,
   "id": "1bc585ae",
   "metadata": {},
   "outputs": [
    {
     "name": "stdout",
     "output_type": "stream",
     "text": [
      "         Date         City  Temperature  Humidity\n",
      "0  2022-01-01     New York           32        80\n",
      "1  2022-01-01  Los Angeles           75        10\n",
      "2  2022-01-02     New York           30        85\n",
      "3  2022-01-02  Los Angeles           78        12\n",
      "----------------------------------------------------------------------------\n",
      "City        Los Angeles  New York\n",
      "Date                             \n",
      "2022-01-01         75.0      32.0\n",
      "2022-01-02         78.0      30.0\n"
     ]
    }
   ],
   "source": [
    "\n",
    "import pandas as pd\n",
    "# Creating a sample DataFrame\n",
    "data = {'Date': ['2022-01-01', '2022-01-01', '2022-01-02', '2022-01-02'],\n",
    " 'City': ['New York', 'Los Angeles', 'New York', 'Los Angeles'],\n",
    " 'Temperature': [32, 75, 30, 78],\n",
    " 'Humidity': [80, 10, 85, 12]}\n",
    "df = pd.DataFrame(data)\n",
    "print(df)\n",
    "print('----------------------------------------------------------------------------')\n",
    "# Creating a pivot table to show average temperature for each city on each date\n",
    "pivot_table = pd.pivot_table(df, values='Temperature', index='Date', columns='City')\n",
    "print(pivot_table)\n"
   ]
  },
  {
   "cell_type": "markdown",
   "id": "7f892904",
   "metadata": {},
   "source": [
    "In this example, the pivot table calculates the average temperature for each city on each\n",
    "date. The resulting table will have dates as rows, cities as columns, and the average\n",
    "temperature as values.\n",
    "\n",
    "Pivot tables are particularly useful for exploring and summarizing data with multiple\n",
    "dimensions, making complex data analysis tasks more accessible and efficient. They allow\n",
    "you to quickly gain insights into your data's patterns and relationships."
   ]
  }
 ],
 "metadata": {
  "kernelspec": {
   "display_name": "Python 3 (ipykernel)",
   "language": "python",
   "name": "python3"
  },
  "language_info": {
   "codemirror_mode": {
    "name": "ipython",
    "version": 3
   },
   "file_extension": ".py",
   "mimetype": "text/x-python",
   "name": "python",
   "nbconvert_exporter": "python",
   "pygments_lexer": "ipython3",
   "version": "3.10.9"
  }
 },
 "nbformat": 4,
 "nbformat_minor": 5
}
