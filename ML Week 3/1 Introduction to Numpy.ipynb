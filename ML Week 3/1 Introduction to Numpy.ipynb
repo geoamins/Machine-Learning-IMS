{
 "cells": [
  {
   "cell_type": "code",
   "execution_count": 1,
   "metadata": {},
   "outputs": [],
   "source": [
    "import numpy as np"
   ]
  },
  {
   "cell_type": "code",
   "execution_count": 19,
   "metadata": {},
   "outputs": [
    {
     "name": "stdout",
     "output_type": "stream",
     "text": [
      "1\n",
      "2\n",
      "3\n",
      "4\n",
      "5\n",
      "6\n",
      "7\n",
      "8\n",
      "9\n",
      "10\n",
      "11\n",
      "12\n",
      "13\n",
      "14\n",
      "15\n"
     ]
    }
   ],
   "source": [
    "# This is to show that simply adding a number to the elements of a simple array will not work\n",
    "arr_1 = [1,2,3,4,5,6,7,8,9,10,11,12,13,14,15]\n",
    "arr_0 = [1,2,3,4,5,6,7,8,9,10,11,12,13,14,15]\n",
    "\n",
    "# arr_1+arr_0 \n",
    "# type(arr_1)\n",
    "# arr_1 += 1\n",
    "for i in range(len(arr_1)): \n",
    "    print(arr_1[i])\n",
    "\n",
    "# len(arr_1)"
   ]
  },
  {
   "cell_type": "code",
   "execution_count": 16,
   "metadata": {},
   "outputs": [
    {
     "name": "stdout",
     "output_type": "stream",
     "text": [
      "<class 'numpy.ndarray'>\n",
      "(6,)\n"
     ]
    }
   ],
   "source": [
    "# But you can do it in a numpy array\n",
    "arr_2 = np.array([1,2,3,4,5,6])  #creating an array\n",
    "print (type(arr_2))\n",
    "print(arr_2.shape)"
   ]
  },
  {
   "cell_type": "code",
   "execution_count": 44,
   "metadata": {},
   "outputs": [
    {
     "data": {
      "text/plain": [
       "(3, 3)"
      ]
     },
     "execution_count": 44,
     "metadata": {},
     "output_type": "execute_result"
    }
   ],
   "source": [
    "arr=np.array(\n",
    "    [[1,2,3],\n",
    "    [4,5,6],\n",
    "    [7,8,9]]\n",
    ")\n",
    "\n",
    "arr.shape"
   ]
  },
  {
   "cell_type": "code",
   "execution_count": 22,
   "metadata": {},
   "outputs": [
    {
     "name": "stdout",
     "output_type": "stream",
     "text": [
      "Original array elements: [1 2 3 4 5 6]\n",
      "Adding one with each element of an array: [2 3 4 5 6 7]\n"
     ]
    }
   ],
   "source": [
    "# adding +1 to all elements of a numpy array\n",
    "print('Original array elements:', arr_2)\n",
    "arr_3 = arr_2 + 1\n",
    "# arr_2 += 2\n",
    "print('Adding one with each element of an array:', arr_3)\n",
    "# arr_2 += 1\n",
    "# arr_2"
   ]
  },
  {
   "cell_type": "code",
   "execution_count": 23,
   "metadata": {},
   "outputs": [
    {
     "data": {
      "text/plain": [
       "array([ 3,  5,  7,  9, 11, 13])"
      ]
     },
     "execution_count": 23,
     "metadata": {},
     "output_type": "execute_result"
    }
   ],
   "source": [
    "# Adding elements to numpy array\n",
    "arr_3 + arr_2"
   ]
  },
  {
   "cell_type": "code",
   "execution_count": 22,
   "metadata": {},
   "outputs": [
    {
     "data": {
      "text/plain": [
       "30"
      ]
     },
     "execution_count": 22,
     "metadata": {},
     "output_type": "execute_result"
    }
   ],
   "source": [
    "a=10\n",
    "b=20\n",
    "a+b\n"
   ]
  },
  {
   "cell_type": "code",
   "execution_count": 24,
   "metadata": {},
   "outputs": [
    {
     "data": {
      "text/plain": [
       "array([ 2,  6, 12, 20, 30, 42])"
      ]
     },
     "execution_count": 24,
     "metadata": {},
     "output_type": "execute_result"
    }
   ],
   "source": [
    "# Multiplying elements\n",
    "arr_2 * arr_3"
   ]
  },
  {
   "cell_type": "code",
   "execution_count": 26,
   "metadata": {},
   "outputs": [
    {
     "data": {
      "text/plain": [
       "(2, 3)"
      ]
     },
     "execution_count": 26,
     "metadata": {},
     "output_type": "execute_result"
    }
   ],
   "source": [
    "# Element at specific index number, in this instance it's \"0\". \n",
    "# we always count positions from zero in arrays.\n",
    "arr_3 [0], arr_3[1]"
   ]
  },
  {
   "cell_type": "code",
   "execution_count": 39,
   "metadata": {},
   "outputs": [
    {
     "name": "stdout",
     "output_type": "stream",
     "text": [
      "orginal array [1 2 3 4 5 6]\n",
      "Slicing\n"
     ]
    },
    {
     "data": {
      "text/plain": [
       "array([3, 4])"
      ]
     },
     "execution_count": 39,
     "metadata": {},
     "output_type": "execute_result"
    }
   ],
   "source": [
    "# To select a range. in this case, it's index position 1 till the end.\n",
    "print('orginal array',arr_2)\n",
    "print('Slicing')\n",
    "arr_2[2:-2]\n",
    "# arr_2 [:-3]  # [start, end]"
   ]
  },
  {
   "cell_type": "code",
   "execution_count": 45,
   "metadata": {},
   "outputs": [
    {
     "data": {
      "text/plain": [
       "array([['1', '2', 'a'],\n",
       "       ['1.5', '2.5', 'b']], dtype='<U32')"
      ]
     },
     "execution_count": 45,
     "metadata": {},
     "output_type": "execute_result"
    }
   ],
   "source": [
    "# You can have a multidimensional array with different data types.\n",
    "a=np.array(\n",
    "    [\n",
    "        [1, 2, \"a\"],[1.5,2.5,\"b\"]\n",
    "    ]\n",
    ")\n",
    "a\n",
    "# np.array([[1,2,3],[\"a\",\"b\",\"c\"]])"
   ]
  },
  {
   "cell_type": "code",
   "execution_count": 46,
   "metadata": {},
   "outputs": [
    {
     "name": "stdout",
     "output_type": "stream",
     "text": [
      "Original array : [1 2 3]\n",
      "New array : [1 2 3 4]\n"
     ]
    }
   ],
   "source": [
    "        # Appending an element\n",
    "arr = np.array([1, 2, 3])\n",
    "print(\"Original array :\", arr)\n",
    "new_arr = np.append(arr, 4)\n",
    "print(\"New array :\", new_arr)"
   ]
  },
  {
   "cell_type": "code",
   "execution_count": 47,
   "metadata": {},
   "outputs": [
    {
     "name": "stdout",
     "output_type": "stream",
     "text": [
      "Original array : [1 2 3]\n",
      "New array : [1 5 2 3]\n"
     ]
    }
   ],
   "source": [
    "# Adding an element at index 1\n",
    "new_arr = np.insert(arr, 1, 5)\n",
    "print(\"Original array :\", arr)\n",
    "print(\"New array :\", new_arr)"
   ]
  }
 ],
 "metadata": {
  "kernelspec": {
   "display_name": "Python 3 (ipykernel)",
   "language": "python",
   "name": "python3"
  },
  "language_info": {
   "codemirror_mode": {
    "name": "ipython",
    "version": 3
   },
   "file_extension": ".py",
   "mimetype": "text/x-python",
   "name": "python",
   "nbconvert_exporter": "python",
   "pygments_lexer": "ipython3",
   "version": "3.9.13"
  }
 },
 "nbformat": 4,
 "nbformat_minor": 2
}
